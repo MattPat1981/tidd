{
 "cells": [
  {
   "cell_type": "markdown",
   "metadata": {},
   "source": [
    "# Data Source Visualizations \n",
    "\n",
    "This notebooks contains some supporting visualizations for the experiments in this repository. "
   ]
  },
  {
   "cell_type": "markdown",
   "metadata": {},
   "source": [
    "## Imports"
   ]
  },
  {
   "cell_type": "code",
   "execution_count": 1,
   "metadata": {},
   "outputs": [],
   "source": [
    "# import datetime\n",
    "import matplotlib.pyplot as plt\n",
    "import matplotlib as mpl\n",
    "\n",
    "import os\n",
    "os.environ[\"PROJ_LIB\"] = os.path.join(os.environ[\"CONDA_PREFIX\"], \"share\", \"proj\")\n",
    "\n",
    "from mpl_toolkits.basemap import Basemap\n",
    "from mpl_toolkits.axes_grid1 import make_axes_locatable\n",
    "import numpy as np\n",
    "import pandas as pd\n",
    "import seaborn as sns\n",
    "# from sklearn.preprocessing import minmax_scale"
   ]
  },
  {
   "cell_type": "markdown",
   "metadata": {},
   "source": [
    "## Collect / Read Data"
   ]
  },
  {
   "cell_type": "code",
   "execution_count": 47,
   "metadata": {},
   "outputs": [],
   "source": [
    "# define events \n",
    "events = {\n",
    "    \"hawaii_2012\": {\n",
    "        \"year\": 2012,\n",
    "        \"magnitude\": 7.8,\n",
    "        \"lat\": 52.788,\n",
    "        \"lon\": -132.101,\n",
    "        \"url\": \"https://earthquake.usgs.gov/earthquakes/eventpage/usp000juhz/executive\"\n",
    "    },\n",
    "    \"chile_2015\": {\n",
    "        \"year\": 2015,\n",
    "        \"magnitude\": 8.3,\n",
    "        \"lat\": -31.573,\n",
    "        \"lon\": -71.674,\n",
    "        \"url\": \"https://earthquake.usgs.gov/earthquakes/eventpage/us20003k7a/executive\"\n",
    "    },\n",
    "    \"japan_2011\": {\n",
    "        \"year\": 2011,\n",
    "        \"magnitude\": 9.1,\n",
    "        \"lat\": 38.297,\n",
    "        \"lon\": 142.373,\n",
    "        \"url\": \"https://earthquake.usgs.gov/earthquakes/eventpage/official20110311054624120_30/dyfi/intensity\"\n",
    "    },\n",
    "    \"chile_2014\": {\n",
    "        \"year\": 2014,\n",
    "        \"magnitude\": 8.2,\n",
    "        \"lat\": -19.160,\n",
    "        \"lon\": -70.769,\n",
    "        \"url\": \"https://earthquake.usgs.gov/earthquakes/eventpage/usc000nzvd/executive\"\n",
    "    },\n",
    "    \"alaska_2020\": {\n",
    "        \"year\": 2020,\n",
    "        \"magnitude\": 6.1,\n",
    "        \"lat\": 54.791,\n",
    "        \"lon\": -161.204,\n",
    "        \"url\": \"https://earthquake.usgs.gov/earthquakes/eventpage/us6000b56k/executive\"\n",
    "    },\n",
    "    \"banyaks_2010\": {\n",
    "        \"year\": 2010,\n",
    "        \"magnitude\": 7.8,\n",
    "        \"lat\": 2.38,\n",
    "        \"lon\": 97.05,\n",
    "        \"url\": \"https://en.wikipedia.org/wiki/April_2010_Sumatra_earthquake\"\n",
    "    },\n",
    "    \"mentawai_2010\": {\n",
    "        \"year\": 2012,\n",
    "        \"magnitude\": 7.8,\n",
    "        \"lat\": 3.487,\n",
    "        \"lon\": 100.082,\n",
    "        \"url\": \"https://earthquake.usgs.gov/earthquakes/eventpage/usp000hnj4/executive\"\n",
    "    },\n",
    "    \"fiordland_2009\": {\n",
    "        \"year\": 2012,\n",
    "        \"magnitude\": 7.8,\n",
    "        \"lat\": -45.721,\n",
    "        \"lon\": 166.643,\n",
    "        \"url\": \"https://en.wikipedia.org/wiki/2009_Fiordland_earthquake\"\n",
    "    },\n",
    "    \"maule_2010\": {\n",
    "        \"year\": 2010,\n",
    "        \"magnitude\": 8.8,\n",
    "        \"lat\": -36.112,\n",
    "        \"lon\": -72.898,\n",
    "        \"url\": \"https://earthquake.usgs.gov/earthquakes/eventpage/official20100227063411530_30/executive\"\n",
    "    }\n",
    "}"
   ]
  },
  {
   "cell_type": "code",
   "execution_count": 48,
   "metadata": {},
   "outputs": [
    {
     "data": {
      "text/plain": [
       "9"
      ]
     },
     "execution_count": 48,
     "metadata": {},
     "output_type": "execute_result"
    }
   ],
   "source": [
    "len(events)"
   ]
  },
  {
   "cell_type": "code",
   "execution_count": 49,
   "metadata": {},
   "outputs": [
    {
     "data": {
      "text/html": [
       "<div>\n",
       "<style scoped>\n",
       "    .dataframe tbody tr th:only-of-type {\n",
       "        vertical-align: middle;\n",
       "    }\n",
       "\n",
       "    .dataframe tbody tr th {\n",
       "        vertical-align: top;\n",
       "    }\n",
       "\n",
       "    .dataframe thead th {\n",
       "        text-align: right;\n",
       "    }\n",
       "</style>\n",
       "<table border=\"1\" class=\"dataframe\">\n",
       "  <thead>\n",
       "    <tr style=\"text-align: right;\">\n",
       "      <th></th>\n",
       "      <th>year</th>\n",
       "      <th>magnitude</th>\n",
       "      <th>lat</th>\n",
       "      <th>lon</th>\n",
       "      <th>url</th>\n",
       "    </tr>\n",
       "  </thead>\n",
       "  <tbody>\n",
       "    <tr>\n",
       "      <th>hawaii_2012</th>\n",
       "      <td>2012</td>\n",
       "      <td>7.8</td>\n",
       "      <td>52.788</td>\n",
       "      <td>-132.101</td>\n",
       "      <td>https://earthquake.usgs.gov/earthquakes/eventp...</td>\n",
       "    </tr>\n",
       "    <tr>\n",
       "      <th>chile_2015</th>\n",
       "      <td>2015</td>\n",
       "      <td>8.3</td>\n",
       "      <td>-31.573</td>\n",
       "      <td>-71.674</td>\n",
       "      <td>https://earthquake.usgs.gov/earthquakes/eventp...</td>\n",
       "    </tr>\n",
       "    <tr>\n",
       "      <th>japan_2011</th>\n",
       "      <td>2011</td>\n",
       "      <td>9.1</td>\n",
       "      <td>38.297</td>\n",
       "      <td>142.373</td>\n",
       "      <td>https://earthquake.usgs.gov/earthquakes/eventp...</td>\n",
       "    </tr>\n",
       "    <tr>\n",
       "      <th>chile_2014</th>\n",
       "      <td>2014</td>\n",
       "      <td>8.2</td>\n",
       "      <td>-19.16</td>\n",
       "      <td>-70.769</td>\n",
       "      <td>https://earthquake.usgs.gov/earthquakes/eventp...</td>\n",
       "    </tr>\n",
       "    <tr>\n",
       "      <th>alaska_2020</th>\n",
       "      <td>2020</td>\n",
       "      <td>6.1</td>\n",
       "      <td>54.791</td>\n",
       "      <td>-161.204</td>\n",
       "      <td>https://earthquake.usgs.gov/earthquakes/eventp...</td>\n",
       "    </tr>\n",
       "    <tr>\n",
       "      <th>banyaks_2010</th>\n",
       "      <td>2010</td>\n",
       "      <td>7.8</td>\n",
       "      <td>2.38</td>\n",
       "      <td>97.05</td>\n",
       "      <td>https://en.wikipedia.org/wiki/April_2010_Sumat...</td>\n",
       "    </tr>\n",
       "    <tr>\n",
       "      <th>mentawai_2010</th>\n",
       "      <td>2012</td>\n",
       "      <td>7.8</td>\n",
       "      <td>3.487</td>\n",
       "      <td>100.082</td>\n",
       "      <td>https://earthquake.usgs.gov/earthquakes/eventp...</td>\n",
       "    </tr>\n",
       "    <tr>\n",
       "      <th>fiordland_2009</th>\n",
       "      <td>2012</td>\n",
       "      <td>7.8</td>\n",
       "      <td>-45.721</td>\n",
       "      <td>166.643</td>\n",
       "      <td>https://en.wikipedia.org/wiki/2009_Fiordland_e...</td>\n",
       "    </tr>\n",
       "    <tr>\n",
       "      <th>maule_2010</th>\n",
       "      <td>2010</td>\n",
       "      <td>8.8</td>\n",
       "      <td>-36.112</td>\n",
       "      <td>-72.898</td>\n",
       "      <td>https://earthquake.usgs.gov/earthquakes/eventp...</td>\n",
       "    </tr>\n",
       "  </tbody>\n",
       "</table>\n",
       "</div>"
      ],
      "text/plain": [
       "                year magnitude     lat      lon  \\\n",
       "hawaii_2012     2012       7.8  52.788 -132.101   \n",
       "chile_2015      2015       8.3 -31.573  -71.674   \n",
       "japan_2011      2011       9.1  38.297  142.373   \n",
       "chile_2014      2014       8.2  -19.16  -70.769   \n",
       "alaska_2020     2020       6.1  54.791 -161.204   \n",
       "banyaks_2010    2010       7.8    2.38    97.05   \n",
       "mentawai_2010   2012       7.8   3.487  100.082   \n",
       "fiordland_2009  2012       7.8 -45.721  166.643   \n",
       "maule_2010      2010       8.8 -36.112  -72.898   \n",
       "\n",
       "                                                              url  \n",
       "hawaii_2012     https://earthquake.usgs.gov/earthquakes/eventp...  \n",
       "chile_2015      https://earthquake.usgs.gov/earthquakes/eventp...  \n",
       "japan_2011      https://earthquake.usgs.gov/earthquakes/eventp...  \n",
       "chile_2014      https://earthquake.usgs.gov/earthquakes/eventp...  \n",
       "alaska_2020     https://earthquake.usgs.gov/earthquakes/eventp...  \n",
       "banyaks_2010    https://en.wikipedia.org/wiki/April_2010_Sumat...  \n",
       "mentawai_2010   https://earthquake.usgs.gov/earthquakes/eventp...  \n",
       "fiordland_2009  https://en.wikipedia.org/wiki/2009_Fiordland_e...  \n",
       "maule_2010      https://earthquake.usgs.gov/earthquakes/eventp...  "
      ]
     },
     "execution_count": 49,
     "metadata": {},
     "output_type": "execute_result"
    }
   ],
   "source": [
    "events_df = pd.DataFrame.from_dict(events).T\n",
    "events_df"
   ]
  },
  {
   "cell_type": "markdown",
   "metadata": {},
   "source": [
    "## Plotting"
   ]
  },
  {
   "cell_type": "code",
   "execution_count": null,
   "metadata": {},
   "outputs": [
    {
     "name": "stderr",
     "output_type": "stream",
     "text": [
      "/home/vconstan/.conda/envs/tidd/lib/python3.6/site-packages/ipykernel_launcher.py:11: MatplotlibDeprecationWarning: \n",
      "The dedent function was deprecated in Matplotlib 3.1 and will be removed in 3.3. Use inspect.cleandoc instead.\n",
      "  # This is added back by InteractiveShellApp.init_path()\n"
     ]
    }
   ],
   "source": [
    "# set the figure size \n",
    "f, ax = plt.subplots(figsize=(12, 12))\n",
    "\n",
    "# first draw the geographic map \n",
    "ax = Basemap(projection='merc', \n",
    "             llcrnrlat=-60.623, \n",
    "             urcrnrlat=85.715,\n",
    "             llcrnrlon=70.722,\n",
    "             urcrnrlon=325.793,\n",
    "             resolution='h', \n",
    "             epsg=4326\n",
    ") \n",
    "# ax.shadedrelief()\n",
    "# ax.drawcountries(color='gray')\n",
    "# ax.drawstates(color='gray')\n",
    "# ax.fillcontinents()\n",
    "# ax.fillcontinents(color='gray', ocean_color='white')\n",
    "# ax.bluemarble()\n",
    "ax.shadedrelief()\n",
    "# ax.etopo()\n",
    "# draw_arcgisimage(ax, \"ESRI_Imagery_World_2D\", 1500)\n",
    "# ax.arcgisimage(\n",
    "#     server=\"http://server.arcgisonline.com/ArcGIS\",\n",
    "#     service=\"ESRI_Imagery_World_2D\", xpixels=2000, verbose=True, dpi=500\n",
    "# )\n",
    "    \n",
    "# ax.arcgisimage(service='ESRI_Imagery_World_2D', xpixels=2000, verbose=False)\n",
    "\n",
    "# ax.drawcoastlines(color='gray')\n",
    "\n",
    "# then add the scatterplot on top \n",
    "ax.scatter(\n",
    "    events_df[\"lon\"].values, \n",
    "    events_df[\"lat\"].values, \n",
    "    latlon=True,\n",
    "    c=\"white\",\n",
    "    s=[round(x**2) for x in events_df[\"magnitude\"].values], \n",
    "    edgecolors='black',\n",
    "    linewidths=2,\n",
    "#     cmap=\"RdYlBu\",\n",
    "#     vmin=-0.004, vmax=0.004,\n",
    "#     s=250,\n",
    "    alpha=1\n",
    ")\n",
    "\n",
    "plt.show()"
   ]
  },
  {
   "cell_type": "code",
   "execution_count": null,
   "metadata": {},
   "outputs": [],
   "source": []
  },
  {
   "cell_type": "code",
   "execution_count": null,
   "metadata": {},
   "outputs": [],
   "source": []
  },
  {
   "cell_type": "code",
   "execution_count": null,
   "metadata": {},
   "outputs": [],
   "source": []
  },
  {
   "cell_type": "code",
   "execution_count": null,
   "metadata": {},
   "outputs": [],
   "source": []
  },
  {
   "cell_type": "code",
   "execution_count": null,
   "metadata": {},
   "outputs": [],
   "source": []
  },
  {
   "cell_type": "code",
   "execution_count": null,
   "metadata": {},
   "outputs": [],
   "source": []
  },
  {
   "cell_type": "code",
   "execution_count": null,
   "metadata": {},
   "outputs": [],
   "source": []
  }
 ],
 "metadata": {
  "kernelspec": {
   "display_name": "Python 3",
   "language": "python",
   "name": "python3"
  },
  "language_info": {
   "codemirror_mode": {
    "name": "ipython",
    "version": 3
   },
   "file_extension": ".py",
   "mimetype": "text/x-python",
   "name": "python",
   "nbconvert_exporter": "python",
   "pygments_lexer": "ipython3",
   "version": "3.6.10"
  }
 },
 "nbformat": 4,
 "nbformat_minor": 4
}
