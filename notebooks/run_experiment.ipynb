{
 "cells": [
  {
   "cell_type": "markdown",
   "metadata": {},
   "source": [
    "# Detecting Traveling Ionospheric Disturbances (TIDs) During the 2012 Haida – Gwaii Earthquake\n",
    "\n",
    "This notebook demostrates how deep learning - specifically Convolutional Neural Networks (CNNs) - can be used to detect signs of tsunami waves in the Earth's ionosphere (Traveling Ionospheric Disturbances, or TIDs), and accompanies the paper **Detecting Tsunami-related Internal Gravity Waves in Earth's Ionosphere with Convolutional Neural Networks**. \n",
    "\n",
    "To replicate the experiment detailed in the paper, run the below cells without modification to the `Model` or `Experiment` parameters except for `Experiment.name`. Check out the source code in the `tidd` directory to get a better understanding of the approach and the out of sample validation process. "
   ]
  },
  {
   "cell_type": "markdown",
   "metadata": {},
   "source": [
    "## Imports\n",
    "\n",
    "First, we'll import the libraries we need to run the experiment and replicate the paper results. "
   ]
  },
  {
   "cell_type": "code",
   "execution_count": 1,
   "metadata": {},
   "outputs": [],
   "source": [
    "import json\n",
    "from fastai.vision.all import Adam, resnet34\n",
    "\n",
    "from tidd.modeling import Model, Experiment"
   ]
  },
  {
   "cell_type": "markdown",
   "metadata": {},
   "source": [
    "## Define Model\n",
    "\n",
    "At this stage, we can define the model to be used in model training and later to perform inference as part of the "
   ]
  },
  {
   "cell_type": "code",
   "execution_count": 2,
   "metadata": {},
   "outputs": [],
   "source": [
    "M = Model(\n",
    "    architecture=resnet34,\n",
    "    batch_size=256,\n",
    "    learning_rate=0.0001,\n",
    "    optimization_function=Adam\n",
    ")"
   ]
  },
  {
   "cell_type": "markdown",
   "metadata": {},
   "source": [
    "## Define Experiment"
   ]
  },
  {
   "cell_type": "code",
   "execution_count": null,
   "metadata": {},
   "outputs": [
    {
     "name": "stdout",
     "output_type": "stream",
     "text": [
      "INFO:root: ----------------------------------------------------\n",
      "INFO:root: Experiment defined with the following parameters:\n",
      "INFO:root: Experiment Name: tidd-test\n",
      "INFO:root: Model Architecture: resnet34\n",
      "INFO:root: Generate data from raw files: False\n",
      "INFO:root: Share of data for testing: 0.2\n",
      "INFO:root: Parallel GPUs: False\n",
      "INFO:root: Max training epochs: 50\n",
      "INFO:root: Window size: 60\n",
      "INFO:root: ----------------------------------------------------\n",
      "\n",
      "INFO:root:Specifying CUDA device...\n",
      "{ device_name: Tesla P100-SXM2-16GB }\n",
      "{ parallel_gpus: False }\n",
      "INFO:root:Loading data from disk...\n"
     ]
    }
   ],
   "source": [
    "E = Experiment(\n",
    "    model=M,\n",
    "    name=\"tidd-test\",\n",
    "    cuda_device=3,\n",
    "    training_data_paths=\"../data/experiments/tidd-test/hawaii\", # str/path when generate_data is False, else List\n",
    "#     validation_data_paths=\"../data/experiments/tidd-test/chile\",\n",
    "    share_testing=0.2,\n",
    "    parallel_gpus=False,\n",
    "    max_epochs=50,\n",
    "    generate_data=False\n",
    ")"
   ]
  },
  {
   "cell_type": "markdown",
   "metadata": {},
   "source": [
    "## Run Experiment"
   ]
  },
  {
   "cell_type": "code",
   "execution_count": null,
   "metadata": {},
   "outputs": [],
   "source": [
    "E.run(\n",
    "    verbose=True,\n",
    "    save_path=\"/home/vconstan/projects/tidd/output\"\n",
    ")"
   ]
  },
  {
   "cell_type": "code",
   "execution_count": null,
   "metadata": {},
   "outputs": [],
   "source": []
  },
  {
   "cell_type": "code",
   "execution_count": null,
   "metadata": {},
   "outputs": [],
   "source": []
  },
  {
   "cell_type": "code",
   "execution_count": null,
   "metadata": {},
   "outputs": [],
   "source": []
  },
  {
   "cell_type": "code",
   "execution_count": null,
   "metadata": {},
   "outputs": [],
   "source": []
  },
  {
   "cell_type": "code",
   "execution_count": null,
   "metadata": {},
   "outputs": [],
   "source": []
  },
  {
   "cell_type": "code",
   "execution_count": null,
   "metadata": {},
   "outputs": [],
   "source": []
  }
 ],
 "metadata": {
  "kernelspec": {
   "display_name": "Python 3",
   "language": "python",
   "name": "python3"
  },
  "language_info": {
   "codemirror_mode": {
    "name": "ipython",
    "version": 3
   },
   "file_extension": ".py",
   "mimetype": "text/x-python",
   "name": "python",
   "nbconvert_exporter": "python",
   "pygments_lexer": "ipython3",
   "version": "3.6.10"
  }
 },
 "nbformat": 4,
 "nbformat_minor": 4
}
