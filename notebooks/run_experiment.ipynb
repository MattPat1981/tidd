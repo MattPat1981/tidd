{
 "cells": [
  {
   "cell_type": "markdown",
   "metadata": {},
   "source": [
    "# Detecting Traveling Ionospheric Disturbances (TIDs) During the 2012 Haida – Gwaii Earthquake\n",
    "\n",
    "This notebook demostrates how deep learning - specifically Convolutional Neural Networks (CNNs) - can be used to detect signs of tsunami waves in the Earth's ionosphere (Traveling Ionospheric Disturbances, or TIDs), and accompanies the paper **Detecting Tsunami-related Internal Gravity Waves in Earth's Ionosphere with Convolutional Neural Networks**. \n",
    "\n",
    "To replicate the experiment detailed in the paper, run the below cells without modification to the `Model` or `Experiment` parameters except for `Experiment.name`. Check out the source code in the `tidd` directory to get a better understanding of the approach and the out of sample validation process. "
   ]
  },
  {
   "cell_type": "markdown",
   "metadata": {},
   "source": [
    "## Imports\n",
    "\n",
    "First, we'll import the libraries we need to run the experiment and replicate the paper results. "
   ]
  },
  {
   "cell_type": "code",
   "execution_count": 1,
   "metadata": {},
   "outputs": [],
   "source": [
    "import json\n",
    "from fastai.vision.all import Adam, resnet34\n",
    "\n",
    "from tidd.modeling import Model, Experiment"
   ]
  },
  {
   "cell_type": "markdown",
   "metadata": {},
   "source": [
    "## Define Model\n",
    "\n",
    "At this stage, we can define the model to be used in model training and later to perform inference as part of the "
   ]
  },
  {
   "cell_type": "code",
   "execution_count": 2,
   "metadata": {},
   "outputs": [],
   "source": [
    "M = Model(\n",
    "    architecture=resnet34,\n",
    "    batch_size=256,\n",
    "    learning_rate=0.0001,\n",
    "    optimization_function=Adam\n",
    ")"
   ]
  },
  {
   "cell_type": "markdown",
   "metadata": {},
   "source": [
    "## Define Experiment"
   ]
  },
  {
   "cell_type": "code",
   "execution_count": 3,
   "metadata": {},
   "outputs": [
    {
     "name": "stdout",
     "output_type": "stream",
     "text": [
      "INFO:root: ----------------------------------------------------\n",
      "INFO:root: Experiment defined with the following parameters:\n",
      "INFO:root: Experiment Name: proof_of_concept\n",
      "INFO:root: Model Architecture: resnet34\n",
      "INFO:root: Generate data from raw files: False\n",
      "INFO:root: Share of data for testing: 0.2\n",
      "INFO:root: Parallel GPUs: False\n",
      "INFO:root: Max training epochs: 50\n",
      "INFO:root: Window size: 60\n",
      "INFO:root: ----------------------------------------------------\n",
      "\n",
      "INFO:root:Specifying CUDA device...\n",
      "{ device_name: Tesla P100-SXM2-16GB }\n",
      "{ parallel_gpus: False }\n",
      "INFO:root:Loading data from disk...\n",
      "Unable to communicate with Hyperdash servers\n",
      "{ data_path_train: ../data/experiments/proof_of_concept/hawaii/train }\n",
      "INFO:root:Setting model parameters...\n",
      "{ batch_size: 256 }\n",
      "{ architecture: <function resnet34 at 0x70a196ad3c80> }\n",
      "{ learning_rate: 0.0001 }\n",
      "{ epochs_max: 50 }\n",
      "INFO:root:Experiment ready.\n",
      "Better model found at epoch 0 with valid_loss value: 0.8160808086395264.\n"
     ]
    }
   ],
   "source": [
    "E = Experiment(\n",
    "    model=M,\n",
    "    name=\"proof_of_concept\",\n",
    "    cuda_device=3,\n",
    "#     training_data_paths=[\"../data/hawaii\"] # when generate_data=True\n",
    "#     training_data_paths=\"../data/experiments/tidd-test/hawaii\", # str/path when generate_data is False, else List\n",
    "    training_data_paths=\"../data/experiments/proof_of_concept/hawaii/train\", # str/path when generate_data is False, else List\n",
    "#     validation_data_paths=[\"../data/chile\"] # when generate_data=True\n",
    "#     validation_data_paths=\"../data/experiments/tidd-test/chile\",\n",
    "    validation_data_paths=\"../data/experiments/proof_of_concept/hawaii/validation\",\n",
    "    share_testing=0.2,\n",
    "    parallel_gpus=False,\n",
    "    max_epochs=50,\n",
    "    generate_data=False,\n",
    "    save_path=\"../output\"\n",
    ")"
   ]
  },
  {
   "cell_type": "markdown",
   "metadata": {},
   "source": [
    "## Run Experiment"
   ]
  },
  {
   "cell_type": "code",
   "execution_count": null,
   "metadata": {},
   "outputs": [
    {
     "data": {
      "text/html": [
       "\n",
       "    <div>\n",
       "        <style>\n",
       "            /* Turns off some styling */\n",
       "            progress {\n",
       "                /* gets rid of default border in Firefox and Opera. */\n",
       "                border: none;\n",
       "                /* Needs to be in here for Safari polyfill so background images work as expected. */\n",
       "                background-size: auto;\n",
       "            }\n",
       "            .progress-bar-interrupted, .progress-bar-interrupted::-webkit-progress-bar {\n",
       "                background: #F44336;\n",
       "            }\n",
       "        </style>\n",
       "      <progress value='1' class='' max='50' style='width:300px; height:20px; vertical-align: middle;'></progress>\n",
       "      2.00% [1/50 10:35<8:39:06]\n",
       "    </div>\n",
       "    \n",
       "<table border=\"1\" class=\"dataframe\">\n",
       "  <thead>\n",
       "    <tr style=\"text-align: left;\">\n",
       "      <th>epoch</th>\n",
       "      <th>train_loss</th>\n",
       "      <th>valid_loss</th>\n",
       "      <th>error_rate</th>\n",
       "      <th>accuracy</th>\n",
       "      <th>time</th>\n",
       "    </tr>\n",
       "  </thead>\n",
       "  <tbody>\n",
       "    <tr>\n",
       "      <td>0</td>\n",
       "      <td>0.633253</td>\n",
       "      <td>0.816081</td>\n",
       "      <td>0.303960</td>\n",
       "      <td>0.696040</td>\n",
       "      <td>10:34</td>\n",
       "    </tr>\n",
       "  </tbody>\n",
       "</table><p>\n",
       "\n",
       "    <div>\n",
       "        <style>\n",
       "            /* Turns off some styling */\n",
       "            progress {\n",
       "                /* gets rid of default border in Firefox and Opera. */\n",
       "                border: none;\n",
       "                /* Needs to be in here for Safari polyfill so background images work as expected. */\n",
       "                background-size: auto;\n",
       "            }\n",
       "            .progress-bar-interrupted, .progress-bar-interrupted::-webkit-progress-bar {\n",
       "                background: #F44336;\n",
       "            }\n",
       "        </style>\n",
       "      <progress value='118' class='' max='199' style='width:300px; height:20px; vertical-align: middle;'></progress>\n",
       "      59.30% [118/199 05:46<03:57 0.2985]\n",
       "    </div>\n",
       "    "
      ],
      "text/plain": [
       "<IPython.core.display.HTML object>"
      ]
     },
     "metadata": {},
     "output_type": "display_data"
    },
    {
     "data": {
      "image/png": "[encoded data removed]",
      "text/plain": [
       "<Figure size 432x288 with 1 Axes>"
      ]
     },
     "metadata": {},
     "output_type": "display_data"
    }
   ],
   "source": [
    "E.run(\n",
    "    verbose=True,\n",
    ")"
   ]
  },
  {
   "cell_type": "code",
   "execution_count": null,
   "metadata": {},
   "outputs": [],
   "source": []
  },
  {
   "cell_type": "code",
   "execution_count": null,
   "metadata": {},
   "outputs": [],
   "source": []
  },
  {
   "cell_type": "code",
   "execution_count": null,
   "metadata": {},
   "outputs": [],
   "source": []
  },
  {
   "cell_type": "code",
   "execution_count": null,
   "metadata": {},
   "outputs": [],
   "source": []
  },
  {
   "cell_type": "code",
   "execution_count": null,
   "metadata": {},
   "outputs": [],
   "source": []
  },
  {
   "cell_type": "code",
   "execution_count": null,
   "metadata": {},
   "outputs": [],
   "source": []
  }
 ],
 "metadata": {
  "kernelspec": {
   "display_name": "Python 3",
   "language": "python",
   "name": "python3"
  },
  "language_info": {
   "codemirror_mode": {
    "name": "ipython",
    "version": 3
   },
   "file_extension": ".py",
   "mimetype": "text/x-python",
   "name": "python",
   "nbconvert_exporter": "python",
   "pygments_lexer": "ipython3",
   "version": "3.6.10"
  }
 },
 "nbformat": 4,
 "nbformat_minor": 4
}
