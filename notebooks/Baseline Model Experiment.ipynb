{
 "cells": [
  {
   "cell_type": "markdown",
   "metadata": {},
   "source": [
    "# Baseline Model Experiment \n",
    "\n",
    "This notebook contains a baseline model experiment with a simple Artificial Neural Network (ANN) using [FastAI Tabular Learner](https://docs.fast.ai/tabular.learner.html). We begin experiments with this simple model on the premise that - when taking into account the level of effort - clever feature engineering typically outperforms employing alternative model types (such as using LSTMs). \n",
    "\n",
    "A few items about the experiment: \n",
    "\n",
    "- We train for `D` days (periods) and predict on the next day in order to train the model. After each complete period, the model is retrained on the new data (either from scratch or with transfter learning). We model the experiment this way to coincide with how a model would be used in practice and to account for the fast that the most recent data has an outsized influence on model performance. \n",
    "- We identify and utilize periods of observations for model training and testing that are greater than some threshold `period_size`. Deep neural networks cannot be trained with missing data. \n",
    "- Related to the above, it would be an inappropriate training strategy to simply concatenate the periods together during the training process - the value(s) at the end of a period does not help predict the values at the beginning of the next period. As such, we will need to retrain the model for each subsequent day in the training set using transfer learning. The same testing set is used throughout the model training process. \n",
    "- An appropriate learning rate is determined using an automated learning rate finder. \n",
    "- The model is trained using an early stopping criterion that is intened to ovoid model overfitting. \n",
    "- A selection of possible model architectures for the ANN (nodes in the layers, drop out rates, etc). is available for the experiments. "
   ]
  },
  {
   "cell_type": "markdown",
   "metadata": {},
   "source": [
    "## Imports "
   ]
  },
  {
   "cell_type": "code",
   "execution_count": 1,
   "metadata": {},
   "outputs": [
    {
     "data": {
      "text/plain": [
       "'/u/home/s/stecproj/.conda/envs/sTEC/bin/python'"
      ]
     },
     "execution_count": 1,
     "metadata": {},
     "output_type": "execute_result"
    }
   ],
   "source": [
    "import sys; sys.executable"
   ]
  },
  {
   "cell_type": "code",
   "execution_count": 2,
   "metadata": {},
   "outputs": [],
   "source": [
    "from fastai.tabular import *\n",
    "from fastai.metrics import *\n",
    "from fastai import torch_core\n",
    "from fastai.callbacks import *\n",
    "from fastai.callbacks.mem import PeakMemMetric\n",
    "from fastai.utils.mod_display import *\n",
    "\n",
    "import matplotlib.pyplot as plt\n",
    "import os\n",
    "import pandas as pd\n",
    "from pathlib import Path\n",
    "import plotly.graph_objects as go\n",
    "from PyNomaly import loop\n",
    "import random\n",
    "from sklearn.preprocessing import minmax_scale\n",
    "import seaborn as sns\n",
    "sns.set(style=\"darkgrid\")\n",
    "from scipy import spatial, stats\n",
    "from src import data\n",
    "import time\n",
    "import torch\n",
    "from typing import Union\n",
    "from tqdm.notebook import tqdm\n",
    "import csv\n",
    "import warnings"
   ]
  },
  {
   "cell_type": "markdown",
   "metadata": {},
   "source": [
    "Ensure that CUDA is available for modeling. "
   ]
  },
  {
   "cell_type": "code",
   "execution_count": 3,
   "metadata": {},
   "outputs": [
    {
     "data": {
      "text/plain": [
       "True"
      ]
     },
     "execution_count": 3,
     "metadata": {},
     "output_type": "execute_result"
    }
   ],
   "source": [
    "torch.cuda.is_available()"
   ]
  },
  {
   "cell_type": "code",
   "execution_count": 4,
   "metadata": {},
   "outputs": [
    {
     "data": {
      "text/plain": [
       "2"
      ]
     },
     "execution_count": 4,
     "metadata": {},
     "output_type": "execute_result"
    }
   ],
   "source": [
    "torch.cuda.device_count()"
   ]
  },
  {
   "cell_type": "markdown",
   "metadata": {},
   "source": [
    "One useful command for monitoring GPU utilization is one from `nvidia-smi`:\n",
    "\n",
    "```bash\n",
    "nvidia-smi -q -g 0 -d UTILIZATION -l\n",
    "```\n",
    "\n",
    "Another handy tool is `gpustat`: \n",
    "\n",
    "```bash\n",
    "gpustat -cp -i 1\n",
    "```"
   ]
  },
  {
   "cell_type": "code",
   "execution_count": 5,
   "metadata": {},
   "outputs": [],
   "source": [
    "# TODO: we may want to explore adding some of this functionality for logging etc. \n",
    "# https://stackoverflow.com/questions/58216000/get-total-amount-of-free-gpu-memory-and-available-using-pytorch"
   ]
  },
  {
   "cell_type": "markdown",
   "metadata": {},
   "source": [
    "## Experiment Parameters\n",
    "\n",
    "First, we can specify and select a variety of architectures for the model. More specifically, the below architectures are used by FastAI's tabular learner. "
   ]
  },
  {
   "cell_type": "code",
   "execution_count": 6,
   "metadata": {},
   "outputs": [],
   "source": [
    "architectures = {\n",
    "    1: {\n",
    "        \"layers\": [10, 500, 1000, 2500, 25000, 2500, 1000, 500, 10],\n",
    "        \"ps\": [0.0, 0.1, 0.2, 0.2, 0.25, 0.2, 0.2, 0.1, 0.0]\n",
    "    },\n",
    "    2: {\n",
    "        \"layers\": [10, 50, 100, 250, 1000, 250, 100, 50, 10],\n",
    "        \"ps\": [0.5, 0.4, 0.3, 0.2, 0.2, 0.1, 0.05, 0.025, 0.0]\n",
    "    },\n",
    "    3: {\n",
    "        \"layers\": [10, 50, 100, 250, 1000, 250, 100, 50, 10],\n",
    "        \"ps\": [0.0, 0.025, 0.05, 0.1, 0.2, 0.2, 0.3, 0.4, 0.5]\n",
    "    },\n",
    "    4: {\n",
    "        \"layers\": [50000, 5000, 1000, 500, 25, 1],\n",
    "        \"ps\": [0.2, 0.15, 0.1, 0.05, 0.025, 0.]\n",
    "    },\n",
    "    5: {\n",
    "        \"layers\": [50000, 7500, 2500, 1000, 250, 80, 25, 1],\n",
    "        \"ps\": [0.25, 0.2, 0.15, 0.1, 0.05, 0.025, 0.01, 0]\n",
    "    },\n",
    "    6: {\n",
    "        \"layers\": [1000, 250, 50, 1],\n",
    "        \"ps\": [0.2, 0.1, 0.025, 0.]\n",
    "    },\n",
    "    7: {\n",
    "        \"layers\": [3, 3],\n",
    "        \"ps\": [0.1, 0.0]\n",
    "    },\n",
    "    8: {\n",
    "        \"layers\": [10, 10, 10, 10, 10, 10],\n",
    "        \"ps\": [0.1, 0.1, 0.1, 0.1, 0.05, 0.0]\n",
    "    }\n",
    "}"
   ]
  },
  {
   "cell_type": "markdown",
   "metadata": {},
   "source": [
    "Other experimental parameters are set below, such as which data to use in the experiment, which satellite to model, and other model specifications. A single model is applied to each satellite, so the below would be repeated over more than one satellite to conduct a thorough experiment. "
   ]
  },
  {
   "cell_type": "code",
   "execution_count": 7,
   "metadata": {},
   "outputs": [],
   "source": [
    "class Model:\n",
    "    \n",
    "    ## Work in progress\n",
    "    @staticmethod\n",
    "    def make_data_bunch(\n",
    "        df_train: pd.DataFrame, \n",
    "        df_test: pd.DataFrame, \n",
    "        df_valid: pd.DataFrame, \n",
    "        features: list, \n",
    "        dependent: str, \n",
    "        cuda_device: torch.device, #added cuda device here \n",
    "        include_catvars: bool = False, \n",
    "        catvars: list = [], \n",
    "        batch_size: int = 256\n",
    "    ) -> dict:\n",
    "        \"\"\"\n",
    "        Creates a TabularDataBunch to feed as an input \n",
    "        into the learner. \n",
    "        \"\"\"\n",
    "\n",
    "        valid_start_index = df_train.shape[0] + 1\n",
    "        valid_end_index = df_train.shape[0] + df_test.shape[0]\n",
    "\n",
    "        df_train_validation = pd.concat([df_train, df_test])\n",
    "\n",
    "        # create the data bunch\n",
    "        if include_catvars:\n",
    "            data = TabularDataBunch.from_df(\n",
    "                \"models\", \n",
    "                df_train_validation[features + [dependent]], \n",
    "                dependent, \n",
    "                valid_idx=np.array(list(range(valid_start_index, valid_end_index))),\n",
    "    #             test_df=df_test, \n",
    "                procs=[Categorify],\n",
    "                bs=batch_size, # batch size\n",
    "                cat_names=catvars,\n",
    "                device=cuda_device,\n",
    "                num_workers=0\n",
    "            )\n",
    "        else:\n",
    "            data = TabularDataBunch.from_df(\n",
    "                \"models\", \n",
    "                df_train_validation[features + [dependent]], \n",
    "                dependent, \n",
    "                valid_idx=np.array(list(range(valid_start_index, valid_end_index))),\n",
    "    #             test_df=df_test, \n",
    "                procs=None, # disable any automatic preprocessing\n",
    "                bs=batch_size, # batch size\n",
    "                device=cuda_device,\n",
    "                num_workers=0\n",
    "            )\n",
    "\n",
    "        return {\n",
    "            \"databunch\": data, \n",
    "            \"train\": df_train, \n",
    "            \"test\": df_test, \n",
    "            \"valid\": df_valid\n",
    "        }\n",
    "    \n",
    "    @staticmethod\n",
    "    def find_appropriate_lr(model: Learner, lr_diff:int = 15, loss_threshold:float = .001, adjust_value:float = 1, plot:bool = False) -> float:\n",
    "        \n",
    "        \"\"\"\n",
    "        We utilize an [automatic learning rate finder](https://forums.fast.ai/t/automated-learning-rate-suggester/44199/8) to \n",
    "        determine the ideal learning rate automatically. While this approach does not always guarantee that the perfect \n",
    "        learning rate is found, in practice we have found the approach to work well and has been quite stable.\n",
    "        \n",
    "        adjusted the loss threshold to 0.001 from 0.05\n",
    "        \"\"\"\n",
    "        \n",
    "        #Run the Learning Rate Finder\n",
    "        model.lr_find(\n",
    "            end_lr=2.,\n",
    "            stop_div=False # continues through all LRs as opposed to auto stopping\n",
    "        )\n",
    "\n",
    "        #Get loss values and their corresponding gradients, and get lr values\n",
    "        losses = np.array(model.recorder.losses)\n",
    "        assert(lr_diff < len(losses))\n",
    "        loss_grad = np.gradient(losses)\n",
    "        lrs = model.recorder.lrs\n",
    "\n",
    "        #Search for index in gradients where loss is lowest before the loss spike\n",
    "        #Initialize right and left idx using the lr_diff as a spacing unit\n",
    "        #Set the local min lr as -1 to signify if threshold is too low\n",
    "        local_min_lr = -1\n",
    "        r_idx = -1\n",
    "        l_idx = r_idx - lr_diff\n",
    "        while (l_idx >= -len(losses)) and (abs(loss_grad[r_idx] - loss_grad[l_idx]) > loss_threshold):\n",
    "            local_min_lr = lrs[l_idx]\n",
    "            r_idx -= 1\n",
    "            l_idx -= 1\n",
    "\n",
    "        lr_to_use = local_min_lr * adjust_value\n",
    "        \n",
    "\n",
    "        if plot:\n",
    "            # plots the gradients of the losses in respect to the learning rate change\n",
    "            plt.plot(loss_grad)\n",
    "            plt.plot(len(losses)+l_idx, loss_grad[l_idx], markersize=10, marker='o', color='red')\n",
    "            plt.ylabel(\"Loss\")\n",
    "            plt.xlabel(\"Index of LRs\")\n",
    "            plt.show()\n",
    "\n",
    "            plt.plot(np.log10(lrs), losses)\n",
    "            plt.ylabel(\"Loss\")\n",
    "            plt.xlabel(\"Log 10 Transform of Learning Rate\")\n",
    "            loss_coord = np.interp(np.log10(lr_to_use), np.log10(lrs), losses)\n",
    "            plt.plot(np.log10(lr_to_use), loss_coord, markersize=10,marker='o',color='red')\n",
    "            plt.show()\n",
    "        \n",
    "        \n",
    "#         return 0.001\n",
    "        return lr_to_use\n",
    "    \n",
    "    @staticmethod\n",
    "    def predict_values(dataframe: pd.DataFrame, learner: tabular_learner, dependent: str, frac: float = 1.0) -> pd.DataFrame:\n",
    "    \n",
    "        \"\"\"\n",
    "        Using the passed learner, predicts the appropriate value given the input data \n",
    "        and generates errors for analysis. \n",
    "        \n",
    "        Optional frac parameter allows user to specify whether they would like to predict \n",
    "        over the entirety of the dataframe or over a smaller subset of data. \n",
    "        \"\"\"\n",
    "\n",
    "        # get a sample of the dataset \n",
    "        dataframe_pred = dataframe.copy()\n",
    "        n_obs = int(dataframe_pred.shape[0] * frac)\n",
    "        idx = random.sample(range(0, dataframe_pred.shape[0]), n_obs)\n",
    "        dataframe_pred = dataframe_pred.iloc[idx, :]\n",
    "\n",
    "        # get the predictions\n",
    "        predictions = []\n",
    "        print('Generating predictions and errors...')\n",
    "        for idx, row in tqdm(dataframe_pred.iterrows(), total=dataframe_pred.shape[0]):        \n",
    "            predictions.append(learner.predict(row)[1].numpy()[0])\n",
    "\n",
    "\n",
    "        dataframe_pred[\"predicted\"] = predictions\n",
    "        dataframe_pred['error'] = dataframe_pred['predicted'] - dataframe_pred[dependent]\n",
    "        dataframe_pred['absolute_error'] = np.abs(dataframe_pred['error'])\n",
    "        dataframe_pred[\"timestamp\"] = dataframe_pred.index\n",
    "\n",
    "        return dataframe_pred\n",
    "    \n",
    "    # TODO: def classify \n",
    "    # this would use our error (residual) handling approach of choice to classify anomalies \n",
    "    # later assessed by the metrics class, which is applied over multiple classifications \n",
    "    \n",
    "    "
   ]
  },
  {
   "cell_type": "code",
   "execution_count": 8,
   "metadata": {},
   "outputs": [],
   "source": [
    "class Data:\n",
    "    \n",
    "    @staticmethod\n",
    "    def get_periods(dataframe: pd.DataFrame) -> list: \n",
    "        \n",
    "        \"\"\"\n",
    "        These periods are defined by consecutive empty (NaN) values in the dataframe. \n",
    "        The data is only available for the satellite as it passes close to the ground \n",
    "        station on each day. We could train the data in a similar way, ensuring our \n",
    "        approach is compatible with the constraints in the operating environment. \n",
    "        \"\"\"\n",
    "\n",
    "        # handle missing values and \"chunk\" the data for training and testing \n",
    "        events = np.split(dataframe, np.where(np.isnan(dataframe))[0])\n",
    "\n",
    "        # removing NaN entries\n",
    "        events = [ev[~np.isnan(ev)] for ev in events if not isinstance(ev, np.ndarray)]\n",
    "\n",
    "        # removing empty DataFrames\n",
    "        events = [ev.dropna() for ev in events if not ev.empty and ev.shape[0] > 100]\n",
    "\n",
    "        return events\n",
    "    \n",
    "    @staticmethod\n",
    "    def rescale_periods(events: list, feature_range: tuple = (-1, 1)) -> list: \n",
    "        \"\"\"\n",
    "        Rescales the values according to the specified feature range, default (-1, 1). \n",
    "        Reach period (typically a single day) is rescaled independently, mimicking the \n",
    "        proposed implementation of the model in practice (where it would be retrained \n",
    "        each day during the off-line period for the satellite and ground station). \n",
    "        Returns a list of normalized data, one entry for each period. \n",
    "        \"\"\"\n",
    "    \n",
    "        normalized_events = list()\n",
    "        for ev in events: \n",
    "\n",
    "            # for each column in the data, rescale -1 to 1 \n",
    "            col_data = list()\n",
    "            for col in ev.columns.values:\n",
    "\n",
    "                normalized_data = minmax_scale(\n",
    "                            ev[col].dropna(), \n",
    "                            feature_range=feature_range\n",
    "                        )\n",
    "                col_data.append(normalized_data)\n",
    "\n",
    "            df_period = pd.DataFrame(np.array(col_data).T, columns=list(ev.columns.values) )\n",
    "            df_period[\"timestamp\"] = ev[col].index\n",
    "            df_period.index = df_period[\"timestamp\"]\n",
    "            df_period = df_period.drop(columns=[\"timestamp\"])\n",
    "\n",
    "            # convert to seconds of the day for later annotation \n",
    "            df_period[\"sod\"] = (df_period.index.hour*60+df_period.index.minute)*60 + df_period.index.second\n",
    "\n",
    "            normalized_events.append(df_period)\n",
    "            \n",
    "        return normalized_events\n",
    "    \n",
    "    @staticmethod\n",
    "    def allocate_periods(periods: list, index_earthquake: int) -> dict:\n",
    "        \"\"\"\n",
    "        Based on which period is specified as containing the anomaly to be \n",
    "        detected, creates a training, testing, and validation set that can \n",
    "        be used to assess the approach and later obtain quantitative \n",
    "        performance metrics. The training set contains data that is pre-anomaly,\n",
    "        with model training being guided by the single-period test set (the period \n",
    "        before the period with the anomaly). The validation set contains the period \n",
    "        of the anomaly. Any periods after the anomaly period are currenly not used \n",
    "        as part of the experimental process. \n",
    "        \"\"\"\n",
    "    \n",
    "        data = dict()\n",
    "\n",
    "        data[\"valid\"] = periods[index_earthquake]\n",
    "        data[\"test\"] = periods[index_earthquake - 1]\n",
    "        data[\"train\"] = periods[0:index_earthquake - 1]\n",
    "\n",
    "        return data\n",
    "\n",
    "    \n",
    "    \n",
    "    "
   ]
  },
  {
   "cell_type": "markdown",
   "metadata": {},
   "source": [
    "### Results Format\n",
    "\n",
    "Specify a path to locate where results will be saved and it will be structured as so:\n",
    "\n",
    "```\n",
    "\n",
    "SatExperiment_[location]_[year] #root directory\n",
    " - output\n",
    "   - [Station-Satellite pair]\n",
    "     - models #where trained models are stored\n",
    "     - residuals # where the residual csvs stored\n",
    "                 \n",
    "```      "
   ]
  },
  {
   "cell_type": "code",
   "execution_count": 58,
   "metadata": {},
   "outputs": [],
   "source": [
    "class Experiment(object):\n",
    "    \n",
    "    # TODO: set the output path in the initializing rather than having it only within the repository\n",
    "    def __init__(self,\n",
    "                 independent_variables: list,\n",
    "                 satellites: list,\n",
    "                 ground_stations: list,\n",
    "                 model: 'tabular_learner',\n",
    "                 year: int = 2012,\n",
    "                 location: str = \"hawaii\",\n",
    "                 elevation_filter: Union[int, None] = None,\n",
    "                 time_aggregation: str = \"1min\",\n",
    "                 batch_normalization: bool = True, weight_decay: float = 0.1,\n",
    "                 output_save_directory: str = \"\", models_root_name: str = \"model-latest\",\n",
    "                 max_epochs: int = 500, cuda_device: int = 0\n",
    "                ):\n",
    "\n",
    "        # experiment setup\n",
    "        self.year = year\n",
    "        self.location = location\n",
    "        # TODO: below path will need rework when placed in src/modeling.py\n",
    "        self.data_paths = Path('../data/' + self.location + '/' + str(self.year))\n",
    "        self.days = [str(f).split(\"/\")[-1] for f in self.data_paths.iterdir() if f.is_dir()]\n",
    "        self.independent_variables = independent_variables\n",
    "        self.satellites = satellites\n",
    "        self.ground_stations = ground_stations\n",
    "        self.elevation_filter = elevation_filter\n",
    "        self.time_aggregation = time_aggregation\n",
    "        self.batch_normalization = batch_normalization\n",
    "        self.weight_decay = weight_decay\n",
    "        \n",
    "        \n",
    "        #Create an output folder with naming structure(SatExperiment_with_Data_[location]_[Year])\n",
    "        save_dir = output_save_directory + '/SatExperiment_' + self.location + '_' + str(self.year) + '/output'\n",
    "        save_dir_path = Path(save_dir)\n",
    "        if not os.path.exists(save_dir):\n",
    "            Path(save_dir).mkdir(parents=True, exist_ok=True)\n",
    "        cv_log_cols = [\n",
    "                \"ground station + satellite\",\n",
    "                \"root_mean_square_error\", \n",
    "                \"period\", \n",
    "                \"learn_rate\", \n",
    "                \"training_time_seconds\",\n",
    "                \"gpu_memory_bytes\"\n",
    "            ]\n",
    "                \n",
    "        information_df = pd.DataFrame(columns = cv_log_cols).set_index(\"ground station + satellite\")\n",
    "        information_df.to_csv(Path(str(save_dir_path) + \"/\" + \"training_log.csv\"))\n",
    "        self.save_dir = save_dir\n",
    "        \n",
    "\n",
    "        \n",
    "        \n",
    "        \n",
    "        \n",
    "        self.models_root_name = models_root_name\n",
    "        self.max_epochs = max_epochs\n",
    "        \n",
    "        # set the cuda device for experiment\n",
    "        torch.cuda.set_device(cuda_device)\n",
    "        self.cuda_device = torch.device(\"cuda:\" + str(cuda_device))\n",
    "       \n",
    "        \n",
    "       \n",
    "        self.model = model\n",
    "        self.dataframes = dict()  # stores individual dataframes read from csv\n",
    "        \n",
    "        # TODO: experiment results\n",
    "        \n",
    "        # This was just for me to know if the cuda device is set up correctly\n",
    "        print(\"For this Experiment:\")\n",
    "        print(\"Using following CUDA device:\", torch.cuda.get_device_name(self.cuda_device))\n",
    "        print(\"Output will be located here: \", self.save_dir)\n",
    "        \n",
    "        # experiment tracking - one entry per ground station and satellite combination \n",
    "        self.results = dict()\n",
    "        \n",
    "    def read_data(self) -> None:\n",
    "\n",
    "        # TODO: below can be made into a function in another class called Data\n",
    "        # read all of the data into a dictionary\n",
    "        self.dataframes = dict()\n",
    "        for d in self.days:\n",
    "            print(\"\\n--- \" + str(d) + \"---\")\n",
    "\n",
    "            # read in the data\n",
    "            df = data.read_day(\n",
    "                location=self.location,\n",
    "                year=self.year,\n",
    "                day_of_year=int(d)\n",
    "            )\n",
    "            self.dataframes[d] = {\n",
    "                \"dataframe\": df,\n",
    "            }\n",
    "        \n",
    "        # this dataframe will store all day dataframes by satellite and ground station combinations\n",
    "        self.dataframes[\"all_days\"] = dict()\n",
    "            \n",
    "    def merge_data(self) -> None:\n",
    "        #\n",
    "        # TODO: much of the below can be made into a function in another class called Data\n",
    "        # concatenate the dataframes loaded previously into one large dataframe\n",
    "        df_all = pd.concat([self.dataframes[d][\"dataframe\"] for d in self.dataframes.keys() if d != \"all_days\"])\n",
    "\n",
    "        # filter for the satellites and store the respective dataframes\n",
    "        # NOTE: assumes len(self.satellites) >= len(self.ground_stations)\n",
    "        pairs = itertools.product(self.satellites, self.ground_stations)\n",
    "\n",
    "        for p in pairs:\n",
    "            \n",
    "            # get the data for the particular satellite \n",
    "            df_sat = df_all.filter(regex=p[1] + \"__\" + p[0], axis=1)\n",
    "            \n",
    "            # filter out cases where modeling cannot be effectively applied\n",
    "            if df_sat.shape[0] <= 500:\n",
    "                # continue skips the rest of this for loop \n",
    "                continue\n",
    "            \n",
    "            # apply the elevation filter \n",
    "            if self.elevation_filter is not None: \n",
    "                df_sat = df_sat[df_sat[p[1] + \"__\" + p[0] + \"_ele\"] > self.elevation_filter]\n",
    "            \n",
    "            # resample the data as specified in the experiment \n",
    "            # aggregate using the mean value NOTE that this is a strategy that can be changed\n",
    "            # min, max, are other options\n",
    "            # our data does not contain more than 1 value per second so it is not affected \n",
    "            # by this strategy, but step taken for safety \n",
    "            df_model = df_sat.dropna().resample(self.time_aggregation).mean()\n",
    "            \n",
    "            # TODO: this should arguably not be here and be abstacted into something else and then called here\n",
    "            # some data transmission errors in model training data \n",
    "            # not in scope for this initial work, so we want to cleanse the training data a bit \n",
    "            # use local outlier detection approach (Local Outlier Probabilities, 2009) to do this \n",
    "            # PyNomaly python library used to use the LoOP approach \n",
    "            # maybe external??\n",
    "            if p[0] == \"G07\":\n",
    "            \n",
    "                try:\n",
    "\n",
    "                    # period of identified errors in transmission \n",
    "                    filter_index = df_model.index.to_series().between('2012-10-22', '2012-10-23 23:59:00')\n",
    "\n",
    "                    # create a subsetted dataframe to work with \n",
    "                    df_model_outliers = df_model[filter_index].dropna()\n",
    "\n",
    "                    # fit the LoOP Outlier Detection approach \n",
    "                    m = loop.LocalOutlierProbability(\n",
    "                        df_model_outliers[\n",
    "                            [\n",
    "                                p[1] + \"__\" + p[0]\n",
    "                            ]\n",
    "                        ], \n",
    "                        extent=3, \n",
    "                        n_neighbors=500 # want to consider any and all neighbors so set to large size \n",
    "                    ).fit()\n",
    "                    scores = m.local_outlier_probabilities\n",
    "                    df_model_outliers[\"outlier_scores\"] = scores\n",
    "\n",
    "                    # the number of time periods before and after detected outlier to remove from the training data \n",
    "                    # NOTE affected by specfied time_aggregation\n",
    "                    REMOVAL_WINDOW = 10 # number of minutes / points before and after \n",
    "                    # cut-off value for identifiying an anomaly, which are > OUTLIER_THRESHOLD\n",
    "                    OUTLIER_THRESHOLD = 0.9 # on a scale [0, 1]\n",
    "\n",
    "                    # detect the outliers \n",
    "                    outliers = df_model_outliers[df_model_outliers[\"outlier_scores\"] > OUTLIER_THRESHOLD]\n",
    "\n",
    "                    # filter the training data \n",
    "                    removal_windows = list()\n",
    "                    list_index = list(df_model.index.values)\n",
    "                    for idx in outliers.index.values:\n",
    "                        idx_i = list_index.index(idx)\n",
    "                        idx_range = [idx_i - REMOVAL_WINDOW, idx_i + REMOVAL_WINDOW]\n",
    "                        removal_windows.append(idx_range)\n",
    "                    for rw in removal_windows:\n",
    "                        df_model.iloc[rw[0]:rw[1], :] = None\n",
    "                \n",
    "                except Exception as ex:\n",
    "                    print(\"ERROR: Unable to filter localized outliers from \" + p[1] + \"__\" + p[0])\n",
    "\n",
    "            # save\n",
    "            self.dataframes[\"all_days\"][p[1] + \"__\" + p[0]] = {\"merged_dataframe\": df_model}\n",
    "            \n",
    "            \n",
    "    def prep_data(self) -> None: \n",
    "        \"\"\"\n",
    "        Data is split into periods where any NaN values are removed. \n",
    "        These are then normalized and made into a dataset that can be used \n",
    "        for modeling (training, test, and validation sets.)\n",
    "        \"\"\"\n",
    "        \n",
    "        # first, remove NaNs and split the data into periods \n",
    "        for station_sat in tqdm(self.dataframes[\"all_days\"].keys()):\n",
    "            \n",
    "            try:\n",
    "                        \n",
    "                events = Data.get_periods(self.dataframes[\"all_days\"][station_sat][\"merged_dataframe\"])        \n",
    "\n",
    "                # store the events for that \n",
    "                self.dataframes[\"all_days\"][station_sat][\"periods\"] = events\n",
    "\n",
    "                # then, rescale the values from -1 to 1 for each period to support the modeling \n",
    "                self.dataframes[\"all_days\"][station_sat][\"periods_normalized\"] = Data.rescale_periods(events=events, feature_range=(-1,1))\n",
    "\n",
    "                # allocate a training set, a testing set, and a validation set \n",
    "                self.dataframes[\"all_days\"][station_sat][\"periods_allocated\"] = Data.allocate_periods(periods=self.dataframes[\"all_days\"][station_sat][\"periods_normalized\"], index_earthquake=12)\n",
    "\n",
    "                # TODO: above allocation function may not work well for all since period based \n",
    "                # may be better to do so off of a specified time range within a period \n",
    "            \n",
    "            except Exception as ex:\n",
    "                print(\"ERROR: Unable to prep data for \" + station_sat)\n",
    "                \n",
    "\n",
    "    def train_models(self, input_layers: list, input_ps: list, batch_size: int, verbose: bool = False) -> None:\n",
    "        \"\"\"\n",
    "        For each ground station and satellite combination, train a model and \n",
    "        track the associated artifacts, output, and session information (such as the \n",
    "        training time). \n",
    "        \"\"\"\n",
    "        training_log = str(Path(self.save_dir)) + '/training_log.csv'\n",
    "        for station_sat in tqdm(self.dataframes[\"all_days\"].keys()):\n",
    "            \n",
    "            # reset the starting point in tracking max GPU memory occupied\n",
    "            torch.cuda.reset_max_memory_allocated()\n",
    "\n",
    "            \n",
    "            #create folder from which to save models and modeling\n",
    "            model_save_dir = self.save_dir + '/' + station_sat\n",
    "\n",
    "            print(model_save_dir)\n",
    "\n",
    "            if not os.path.exists(model_save_dir):\n",
    "                Path(model_save_dir).mkdir(parents=True, exist_ok=True)\n",
    "\n",
    "            # create an entry in the results for later tracking \n",
    "            self.results[station_sat] = dict()\n",
    "\n",
    "            # get the data to be modeled from the dictionary \n",
    "            data_to_model = self.dataframes[\"all_days\"][station_sat][\"periods_allocated\"]\n",
    "\n",
    "            # create the training, test, and valdiation sets to use in model training\n",
    "            # we first need to assign the dependent variable based on the \n",
    "            df_train = pd.concat(data_to_model[\"train\"])\n",
    "            df_train[station_sat + \"_target\"] = df_train[station_sat]\n",
    "            df_test = data_to_model[\"test\"]\n",
    "            df_test[station_sat + \"_target\"] = df_test[station_sat]\n",
    "            df_valid = data_to_model[\"valid\"]\n",
    "            df_valid[station_sat + \"_target\"] = data_to_model[\"valid\"][station_sat]\n",
    "\n",
    "            #create the data bunch to be used in the modeling process\n",
    "            data_bunch = Model.make_data_bunch(\n",
    "                df_train,\n",
    "                df_test,\n",
    "                df_valid,\n",
    "                [station_sat + var for var in self.independent_variables],\n",
    "                station_sat + \"_target\", \n",
    "                cuda_device=self.cuda_device,\n",
    "                include_catvars=False, \n",
    "                catvars=None, \n",
    "                batch_size=batch_size\n",
    "            ) \n",
    "\n",
    "            # store the data bunch of the model for later use by predict functions \n",
    "            self.dataframes[\"all_days\"][station_sat][\"data_bunch\"] = data_bunch\n",
    "\n",
    "\n",
    "            #create the learner\n",
    "            lr = tabular_learner(\n",
    "                data_bunch[\"databunch\"], \n",
    "                layers=input_layers, \n",
    "                ps=input_ps,\n",
    "                path=model_save_dir,\n",
    "                metrics=[root_mean_squared_error], \n",
    "                callback_fns=[CSVLogger, PeakMemMetric],\n",
    "                use_bn=self.batch_normalization,\n",
    "                wd=self.weight_decay\n",
    "            )\n",
    "\n",
    "            # needed some way to include the cuda device\n",
    "            # first, identify the ideal learning rate for this set of data \n",
    "\n",
    "\n",
    "            learn_rate = Model.find_appropriate_lr(model=lr,loss_threshold=0.001, plot=verbose) \n",
    "            print(\"Learning Rate for {}:\".format(station_sat), learn_rate)\n",
    "            if learn_rate > 0.01:\n",
    "                warnings.warn(\"Learning Rate may be set too high. Current Learning rate is {}\".format(learn_rate))\n",
    "            # since the learning rate can vary from model to model, let's track it \n",
    "            self.results[station_sat][\"learning_rate\"] = learn_rate\n",
    "\n",
    "            # start a timer to track the training time \n",
    "            start = time.time()\n",
    "\n",
    "            # train the model according to the specified architecture, paremeters, and \n",
    "            # identified learning rate \n",
    "            # TODO: right now that information is stored in the experiment class\n",
    "            # but would be nicer if specified in the model class \n",
    "            # train the model \n",
    "            lr.fit_one_cycle(\n",
    "                self.max_epochs,\n",
    "                learn_rate,\n",
    "                # the save model callback saves the model after each epoch \n",
    "                # the early stopping callback helps avoid overfitting and monitors the validation loss \n",
    "                callbacks=[\n",
    "                    SaveModelCallback(\n",
    "                        lr, \n",
    "                        every='epoch', \n",
    "                        monitor=['accuracy', 'root_mean_square_error']\n",
    "                    ),\n",
    "                    EarlyStoppingCallback(\n",
    "                        lr,\n",
    "                        monitor='valid_loss', #'valid_loss', 'root_mean_square_error'\n",
    "                        min_delta=0.0001, \n",
    "                        patience=15\n",
    "                    ),\n",
    "                    ShowGraph(\n",
    "                        lr\n",
    "                    )\n",
    "                ]\n",
    "            )\n",
    "\n",
    "            # end a timer to track the training time and add to the results dict \n",
    "            finish = time.time()\n",
    "            training_time = finish - start\n",
    "            self.results[station_sat][\"training_time\"] = training_time\n",
    "\n",
    "\n",
    "\n",
    "\n",
    "            # TODO (diff from above): store the losses and metric plots for each model \n",
    "#             # loaded learners do not have a recorder\n",
    "            if verbose:\n",
    "                lr.recorder.plot_losses()\n",
    "                lr.recorder.plot_metrics()\n",
    "\n",
    "            # rmse, learner, time_diff\n",
    "            #time_series_cv_log = list()\n",
    "            #cv_log_cols = [\"root_mean_square_error\", \"period\", \"learn_rate\", \"training_time_seconds\"]\n",
    "            # TODO: find a way to store the gpu memory and gpu utilization\n",
    "\n",
    "\n",
    "\n",
    "            # store the root mean square error for this model \n",
    "            rmse = lr.recorder.metrics[-1][0].item()\n",
    "            self.results[station_sat][\"root_mean_square_error\"] = rmse\n",
    "            bytes_allocated = torch.cuda.max_memory_allocated()\n",
    "            training_cv_log = [\n",
    "                station_sat, \n",
    "                rmse, \n",
    "                0, \n",
    "                learn_rate, \n",
    "                training_time, \n",
    "                bytes_allocated\n",
    "            ]\n",
    "            print(\"hello\")\n",
    "            with open(training_log, \"a+\") as fd:\n",
    "                writer = csv.writer(fd)\n",
    "                writer.writerow(training_cv_log)\n",
    "\n",
    "            # TODO: store the training/testing and validation loss, num epochs also \n",
    "\n",
    "            # save the model for this specific station and satellite combination \n",
    "            # TODO: maybe store the model in the output dir, e.g. output/models\n",
    "            save_location = model_save_dir + \"/\" + self.models_root_name + \"-\" + station_sat\n",
    "\n",
    "            lr.save(\"\")\n",
    "\n",
    "            # TODO fix export\n",
    "            lr.export('-export.pkl')\n",
    "\n",
    "            lr.show_results()\n",
    "\n",
    "\n",
    "\n",
    "            # store the trained learner in the experiment class for use in prediction and classification calls by the experiment class \n",
    "            self.results[station_sat][\"trained_learner\"] = lr \n",
    "                \n",
    "#             except Exception as ex:\n",
    "#                 print(\"ERROR: Unable to train model for \" + station_sat)\n",
    "                \n",
    "            \n",
    "    def predict_models(self) -> None: \n",
    "        \"\"\"\n",
    "        For each ground station and satellite combination, predicts the values for \n",
    "        sTEC d/dT on the day of the earthquake. Predictions and residual values are \n",
    "        stored for later visualization and analysis. \n",
    "        \"\"\"\n",
    "        \n",
    "        # for each model \n",
    "        for station_sat in tqdm(self.dataframes[\"all_days\"].keys()):\n",
    "            \n",
    "            try:\n",
    "            \n",
    "                # taking the learner and the associated data bunch and trained learner\n",
    "                data_bunch = self.dataframes[\"all_days\"][station_sat][\"data_bunch\"]\n",
    "                lr = self.results[station_sat][\"trained_learner\"]\n",
    "\n",
    "                # predict on the test data and store predictions\n",
    "                df_test = Model.predict_values(\n",
    "                    dataframe=data_bunch[\"test\"], \n",
    "                    learner=lr, \n",
    "                    dependent=station_sat + \"_target\",\n",
    "                    frac=1.\n",
    "                ).sort_index()\n",
    "\n",
    "                # predict on the validation data (day of earthquake) and store predictions \n",
    "                df_valid = Model.predict_values(\n",
    "                    dataframe=data_bunch[\"valid\"], \n",
    "                    learner=lr, \n",
    "                    dependent=station_sat + \"_target\",\n",
    "                    frac=1.\n",
    "                ).sort_index()\n",
    "\n",
    "                # store the residuals in a directory for later analysis, further review for both test and validation sets \n",
    "                # if a directory doesn't exist for the model, create it \n",
    "                # TODO: below hard-coded path will need to be tweaked when pulling into src \n",
    "                #       maybe allow for dynamic input so that the output does not stay within the repository (Hamlin )\n",
    "                output_path = self.save_dir + '/' + station_sat + \"/residuals\"\n",
    "                if not os.path.exists(output_path):\n",
    "                    Path(output_path).mkdir(parents=True, exist_ok=True)\n",
    "\n",
    "                # for the test set and valid set, store the prediction dataframes\n",
    "                # these dataframes contain the residuals (errors) raw and absolute \n",
    "                df_test.to_csv(output_path + \"/test.csv\")\n",
    "                df_valid.to_csv(output_path + \"/valid.csv\")\n",
    "                \n",
    "            except Exception as ex:\n",
    "                print(\"ERROR: Unable to make predictions for \" + station_sat)\n",
    "                \n",
    "        \n",
    "        \n",
    "    # TODO: an experiment \"run\" function could call train, predict, metrics calling etc .\n",
    "    # that way, much of train code and predict code can be put into the model class \n",
    "    # metrics class sepearate, too. Called for each model probably. \n",
    "    # would make it really easy for the user: create experiment class, pass models (which have associated data), get results \n",
    "    # I think we would want to remove tqdm from elsewhere in that case and show \n",
    "    # a progress bar for each model that covers train, predict, classify (former is a to-do once we handle residual values)\n",
    "            \n",
    "            \n",
    "            \n",
    "            \n",
    "        \n",
    "        \n",
    "        \n",
    "        \n",
    "        \n",
    "        \n",
    "        \n",
    "            \n",
    "            \n",
    "            "
   ]
  },
  {
   "cell_type": "code",
   "execution_count": 59,
   "metadata": {},
   "outputs": [],
   "source": [
    "# test = Path(\"/u/scratch/s/stecproj/sTEC_models\")\n",
    "# Path(str(test.parent) + '/' +'test.csv')"
   ]
  },
  {
   "cell_type": "code",
   "execution_count": 60,
   "metadata": {},
   "outputs": [
    {
     "name": "stdout",
     "output_type": "stream",
     "text": [
      "For this Experiment:\n",
      "Using following CUDA device: GeForce RTX 2080 Ti\n",
      "Output will be located here:  /u/scratch/s/stecproj/sTEC_models/SatExperiment_hawaii_2012/output\n"
     ]
    }
   ],
   "source": [
    "exp = Experiment(\n",
    "    # note: the dependent variable is hardcoded\n",
    "    independent_variables=[\"_ele\"],  # looks up columns with this text as col name and includes them\n",
    "#     satellites=[\"G07\"],\n",
    "    satellites=[\"G07\"],\n",
    "    ground_stations=[\n",
    "        \"ahup\"\n",
    "    ],\n",
    "#     ground_stations=[\n",
    "#         \"ahup\",\n",
    "#         \"ainp\",\n",
    "#         \"alal\",\n",
    "#         \"alep\",\n",
    "#         \"blbp\",\n",
    "#         \"byrl\",\n",
    "#         \"cnpk\",\n",
    "#         \"crim\",\n",
    "#         \"gopm\",\n",
    "#         \"hole\",\n",
    "#         \"jcuz\",\n",
    "#         \"joka\",\n",
    "#         \"kaep\",\n",
    "#         \"kamo\",\n",
    "#         \"kfap\",\n",
    "#         \"khku\",\n",
    "#         \"knne\",\n",
    "#         \"kosm\",\n",
    "#         \"ktpm\",\n",
    "#         \"leia\",\n",
    "#         \"mane\",\n",
    "#         \"mkai\",\n",
    "#         \"mkea\",\n",
    "#         \"mlcc\",\n",
    "#         \"mles\",\n",
    "#         \"mlpr\",\n",
    "#         \"mlrd\",\n",
    "#         \"mmau\",\n",
    "#         \"mokp\",\n",
    "#         \"npit\",\n",
    "#         \"npoc\",\n",
    "#         \"nupm\",\n",
    "#         \"okit\",\n",
    "#         \"outl\",\n",
    "#         \"pat2\",\n",
    "#         \"pg2r\",\n",
    "#         \"pgf1\",\n",
    "#         \"pgf3\",\n",
    "#         \"pgf4\",\n",
    "#         \"pgf5\",\n",
    "#         \"pgf6\",\n",
    "#         \"phan\",\n",
    "#         \"piik\",\n",
    "#         \"pmau\",\n",
    "#         \"puka\",\n",
    "#         \"puoc\",\n",
    "#         \"radf\",\n",
    "#         \"slpc\",\n",
    "#         \"step\",\n",
    "#         \"touo\",\n",
    "#         \"uwev\",\n",
    "#         \"waor\",\n",
    "#         \"yeep\"\n",
    "#     ],\n",
    "    year=2012,\n",
    "    location=\"hawaii\",\n",
    "    elevation_filter=25,\n",
    "    time_aggregation=\"1min\",\n",
    "    batch_normalization=True,\n",
    "    weight_decay=0.1,\n",
    "#     output_save_directory=\"../output3\", #Might need to change this since this is the path to the working \n",
    "    output_save_directory=\"/u/scratch/s/stecproj/sTEC_models\", #Might need to change this since this is the path to the working \n",
    "    models_root_name=\"model-latest\",\n",
    "    max_epochs=500, \n",
    "    cuda_device=0,\n",
    "    model=None # for now set to None, will update later \n",
    ")"
   ]
  },
  {
   "cell_type": "code",
   "execution_count": 61,
   "metadata": {},
   "outputs": [
    {
     "data": {
      "text/plain": [
       "500"
      ]
     },
     "execution_count": 61,
     "metadata": {},
     "output_type": "execute_result"
    }
   ],
   "source": [
    "# we can now examine the attributes of this object which tracks the experiment \n",
    "exp.max_epochs"
   ]
  },
  {
   "cell_type": "markdown",
   "metadata": {},
   "source": [
    "## Read Data\n",
    "\n",
    "This experiment uses data from the Hawaii dataset. We will train the model on a period of `D` days (periods) and test on the latest day (period). The day of the earthquake will represent the _validation_ set, data that is unseen during the model training process. \n",
    "\n",
    "We will be training a model specific to each satellite and ground station combination. The result from each model applied to each combination will be tracked and then aggregated to produce an overall performance number which can be used to evaluate the developed anomaly (tsunami wave) detection approach. "
   ]
  },
  {
   "cell_type": "code",
   "execution_count": 14,
   "metadata": {
    "scrolled": true
   },
   "outputs": [
    {
     "name": "stderr",
     "output_type": "stream",
     "text": [
      "\r",
      "  0%|          | 0/1595 [00:00<?, ?it/s]"
     ]
    },
    {
     "name": "stdout",
     "output_type": "stream",
     "text": [
      "\n",
      "--- 300---\n",
      "Reading dataframes...\n"
     ]
    },
    {
     "name": "stderr",
     "output_type": "stream",
     "text": [
      "100%|██████████| 1595/1595 [00:37<00:00, 42.07it/s]\n"
     ]
    },
    {
     "name": "stdout",
     "output_type": "stream",
     "text": [
      "Concatenating dataframes...\n"
     ]
    },
    {
     "name": "stderr",
     "output_type": "stream",
     "text": [
      "\r",
      "  0%|          | 0/1596 [00:00<?, ?it/s]"
     ]
    },
    {
     "name": "stdout",
     "output_type": "stream",
     "text": [
      "\n",
      "--- 301---\n",
      "Reading dataframes...\n"
     ]
    },
    {
     "name": "stderr",
     "output_type": "stream",
     "text": [
      "100%|██████████| 1596/1596 [00:38<00:00, 41.06it/s]\n"
     ]
    },
    {
     "name": "stdout",
     "output_type": "stream",
     "text": [
      "Concatenating dataframes...\n"
     ]
    },
    {
     "name": "stderr",
     "output_type": "stream",
     "text": [
      "\r",
      "  0%|          | 0/1597 [00:00<?, ?it/s]"
     ]
    },
    {
     "name": "stdout",
     "output_type": "stream",
     "text": [
      "\n",
      "--- 303---\n",
      "Reading dataframes...\n"
     ]
    },
    {
     "name": "stderr",
     "output_type": "stream",
     "text": [
      "100%|██████████| 1597/1597 [00:38<00:00, 41.27it/s]\n"
     ]
    },
    {
     "name": "stdout",
     "output_type": "stream",
     "text": [
      "Concatenating dataframes...\n"
     ]
    },
    {
     "name": "stderr",
     "output_type": "stream",
     "text": [
      "  0%|          | 5/1596 [00:00<00:35, 44.96it/s]"
     ]
    },
    {
     "name": "stdout",
     "output_type": "stream",
     "text": [
      "\n",
      "--- 304---\n",
      "Reading dataframes...\n"
     ]
    },
    {
     "name": "stderr",
     "output_type": "stream",
     "text": [
      "100%|██████████| 1596/1596 [00:40<00:00, 39.25it/s]\n"
     ]
    },
    {
     "name": "stdout",
     "output_type": "stream",
     "text": [
      "Concatenating dataframes...\n"
     ]
    },
    {
     "name": "stderr",
     "output_type": "stream",
     "text": [
      "\r",
      "  0%|          | 0/1597 [00:00<?, ?it/s]"
     ]
    },
    {
     "name": "stdout",
     "output_type": "stream",
     "text": [
      "\n",
      "--- 302---\n",
      "Reading dataframes...\n"
     ]
    },
    {
     "name": "stderr",
     "output_type": "stream",
     "text": [
      "100%|██████████| 1597/1597 [00:37<00:00, 42.86it/s]\n"
     ]
    },
    {
     "name": "stdout",
     "output_type": "stream",
     "text": [
      "Concatenating dataframes...\n"
     ]
    },
    {
     "name": "stderr",
     "output_type": "stream",
     "text": [
      "\r",
      "  0%|          | 0/1656 [00:00<?, ?it/s]"
     ]
    },
    {
     "name": "stdout",
     "output_type": "stream",
     "text": [
      "\n",
      "--- 290---\n",
      "Reading dataframes...\n"
     ]
    },
    {
     "name": "stderr",
     "output_type": "stream",
     "text": [
      "100%|██████████| 1656/1656 [00:40<00:00, 40.59it/s]\n"
     ]
    },
    {
     "name": "stdout",
     "output_type": "stream",
     "text": [
      "Concatenating dataframes...\n"
     ]
    },
    {
     "name": "stderr",
     "output_type": "stream",
     "text": [
      "\r",
      "  0%|          | 0/1654 [00:00<?, ?it/s]"
     ]
    },
    {
     "name": "stdout",
     "output_type": "stream",
     "text": [
      "\n",
      "--- 291---\n",
      "Reading dataframes...\n"
     ]
    },
    {
     "name": "stderr",
     "output_type": "stream",
     "text": [
      "100%|██████████| 1654/1654 [00:39<00:00, 42.04it/s]\n"
     ]
    },
    {
     "name": "stdout",
     "output_type": "stream",
     "text": [
      "Concatenating dataframes...\n"
     ]
    },
    {
     "name": "stderr",
     "output_type": "stream",
     "text": [
      "\r",
      "  0%|          | 0/1646 [00:00<?, ?it/s]"
     ]
    },
    {
     "name": "stdout",
     "output_type": "stream",
     "text": [
      "\n",
      "--- 292---\n",
      "Reading dataframes...\n"
     ]
    },
    {
     "name": "stderr",
     "output_type": "stream",
     "text": [
      "100%|██████████| 1646/1646 [00:39<00:00, 41.17it/s]\n"
     ]
    },
    {
     "name": "stdout",
     "output_type": "stream",
     "text": [
      "Concatenating dataframes...\n"
     ]
    },
    {
     "name": "stderr",
     "output_type": "stream",
     "text": [
      "\r",
      "  0%|          | 0/1649 [00:00<?, ?it/s]"
     ]
    },
    {
     "name": "stdout",
     "output_type": "stream",
     "text": [
      "\n",
      "--- 293---\n",
      "Reading dataframes...\n"
     ]
    },
    {
     "name": "stderr",
     "output_type": "stream",
     "text": [
      "100%|██████████| 1649/1649 [00:40<00:00, 40.72it/s]\n"
     ]
    },
    {
     "name": "stdout",
     "output_type": "stream",
     "text": [
      "Concatenating dataframes...\n"
     ]
    },
    {
     "name": "stderr",
     "output_type": "stream",
     "text": [
      "\r",
      "  0%|          | 0/1655 [00:00<?, ?it/s]"
     ]
    },
    {
     "name": "stdout",
     "output_type": "stream",
     "text": [
      "\n",
      "--- 294---\n",
      "Reading dataframes...\n"
     ]
    },
    {
     "name": "stderr",
     "output_type": "stream",
     "text": [
      "100%|██████████| 1655/1655 [00:40<00:00, 41.03it/s]\n"
     ]
    },
    {
     "name": "stdout",
     "output_type": "stream",
     "text": [
      "Concatenating dataframes...\n"
     ]
    },
    {
     "name": "stderr",
     "output_type": "stream",
     "text": [
      "\r",
      "  0%|          | 0/1648 [00:00<?, ?it/s]"
     ]
    },
    {
     "name": "stdout",
     "output_type": "stream",
     "text": [
      "\n",
      "--- 295---\n",
      "Reading dataframes...\n"
     ]
    },
    {
     "name": "stderr",
     "output_type": "stream",
     "text": [
      "100%|██████████| 1648/1648 [00:39<00:00, 42.17it/s]\n"
     ]
    },
    {
     "name": "stdout",
     "output_type": "stream",
     "text": [
      "Concatenating dataframes...\n"
     ]
    },
    {
     "name": "stderr",
     "output_type": "stream",
     "text": [
      "\r",
      "  0%|          | 0/1655 [00:00<?, ?it/s]"
     ]
    },
    {
     "name": "stdout",
     "output_type": "stream",
     "text": [
      "\n",
      "--- 296---\n",
      "Reading dataframes...\n"
     ]
    },
    {
     "name": "stderr",
     "output_type": "stream",
     "text": [
      "100%|██████████| 1655/1655 [00:40<00:00, 40.79it/s]\n"
     ]
    },
    {
     "name": "stdout",
     "output_type": "stream",
     "text": [
      "Concatenating dataframes...\n"
     ]
    },
    {
     "name": "stderr",
     "output_type": "stream",
     "text": [
      "\r",
      "  0%|          | 0/1647 [00:00<?, ?it/s]"
     ]
    },
    {
     "name": "stdout",
     "output_type": "stream",
     "text": [
      "\n",
      "--- 297---\n",
      "Reading dataframes...\n"
     ]
    },
    {
     "name": "stderr",
     "output_type": "stream",
     "text": [
      "100%|██████████| 1647/1647 [00:41<00:00, 40.06it/s]\n"
     ]
    },
    {
     "name": "stdout",
     "output_type": "stream",
     "text": [
      "Concatenating dataframes...\n"
     ]
    },
    {
     "name": "stderr",
     "output_type": "stream",
     "text": [
      "\r",
      "  0%|          | 0/1657 [00:00<?, ?it/s]"
     ]
    },
    {
     "name": "stdout",
     "output_type": "stream",
     "text": [
      "\n",
      "--- 298---\n",
      "Reading dataframes...\n"
     ]
    },
    {
     "name": "stderr",
     "output_type": "stream",
     "text": [
      "100%|██████████| 1657/1657 [00:40<00:00, 41.14it/s]\n"
     ]
    },
    {
     "name": "stdout",
     "output_type": "stream",
     "text": [
      "Concatenating dataframes...\n"
     ]
    },
    {
     "name": "stderr",
     "output_type": "stream",
     "text": [
      "\r",
      "  0%|          | 0/1656 [00:00<?, ?it/s]"
     ]
    },
    {
     "name": "stdout",
     "output_type": "stream",
     "text": [
      "\n",
      "--- 299---\n",
      "Reading dataframes...\n"
     ]
    },
    {
     "name": "stderr",
     "output_type": "stream",
     "text": [
      "100%|██████████| 1656/1656 [00:39<00:00, 42.05it/s]\n"
     ]
    },
    {
     "name": "stdout",
     "output_type": "stream",
     "text": [
      "Concatenating dataframes...\n"
     ]
    }
   ],
   "source": [
    "# read the data into self.dataframes \n",
    "# TODO: remove tqdm use in read dataframes and instead use in Experiment to track overall progress\n",
    "exp.read_data()"
   ]
  },
  {
   "cell_type": "code",
   "execution_count": 62,
   "metadata": {},
   "outputs": [
    {
     "name": "stdout",
     "output_type": "stream",
     "text": [
      "0\n",
      "dict_keys([])\n"
     ]
    }
   ],
   "source": [
    "print(len(exp.dataframes)) \n",
    "print(exp.dataframes.keys()) "
   ]
  },
  {
   "cell_type": "code",
   "execution_count": 63,
   "metadata": {},
   "outputs": [],
   "source": [
    "# model_dataframes = exp.dataframes\n",
    "exp.dataframes = model_dataframes\n",
    "# exp.dataframes[\"all_days\"] = dict()"
   ]
  },
  {
   "cell_type": "markdown",
   "metadata": {},
   "source": [
    "## Merge Dataset\n",
    "\n",
    "The above experimental parameter definitions will be interesting to explore. However, we also need to be smart about which data we feed into the model for training and how to feet that data into the model as well in order to set a good baseline for our experiments. \n",
    "\n",
    "The data contains missing values and - in practice and in the real-world - and we'll need to account for that in our modeling strategy. We'll want to train the model on each chunk of data to come in, and a chunk represents a continuous stretch of data without any missing values. "
   ]
  },
  {
   "cell_type": "code",
   "execution_count": 64,
   "metadata": {
    "scrolled": true
   },
   "outputs": [
    {
     "name": "stderr",
     "output_type": "stream",
     "text": [
      "/u/home/s/stecproj/.conda/envs/sTEC/lib/python3.7/site-packages/PyNomaly/loop.py:212: UserWarning: n_neighbors must be less than the number of observations. Fit with 490 instead.\n",
      "  UserWarning)\n"
     ]
    }
   ],
   "source": [
    "exp.merge_data()"
   ]
  },
  {
   "cell_type": "code",
   "execution_count": 65,
   "metadata": {},
   "outputs": [
    {
     "data": {
      "text/html": [
       "<div>\n",
       "<style scoped>\n",
       "    .dataframe tbody tr th:only-of-type {\n",
       "        vertical-align: middle;\n",
       "    }\n",
       "\n",
       "    .dataframe tbody tr th {\n",
       "        vertical-align: top;\n",
       "    }\n",
       "\n",
       "    .dataframe thead th {\n",
       "        text-align: right;\n",
       "    }\n",
       "</style>\n",
       "<table border=\"1\" class=\"dataframe\">\n",
       "  <thead>\n",
       "    <tr style=\"text-align: right;\">\n",
       "      <th></th>\n",
       "      <th>ahup__G07</th>\n",
       "      <th>ahup__G07_lon</th>\n",
       "      <th>ahup__G07_lat</th>\n",
       "      <th>ahup__G07_h_ipp</th>\n",
       "      <th>ahup__G07_ele</th>\n",
       "      <th>ahup__G07_azi</th>\n",
       "    </tr>\n",
       "  </thead>\n",
       "  <tbody>\n",
       "    <tr>\n",
       "      <th>count</th>\n",
       "      <td>3965.000000</td>\n",
       "      <td>3965.000000</td>\n",
       "      <td>3965.000000</td>\n",
       "      <td>3965.000000</td>\n",
       "      <td>3965.000000</td>\n",
       "      <td>3965.000000</td>\n",
       "    </tr>\n",
       "    <tr>\n",
       "      <th>mean</th>\n",
       "      <td>-0.003048</td>\n",
       "      <td>-155.111457</td>\n",
       "      <td>20.150692</td>\n",
       "      <td>349999.887685</td>\n",
       "      <td>55.210378</td>\n",
       "      <td>165.396434</td>\n",
       "    </tr>\n",
       "    <tr>\n",
       "      <th>std</th>\n",
       "      <td>0.004368</td>\n",
       "      <td>1.253932</td>\n",
       "      <td>2.328686</td>\n",
       "      <td>18.420841</td>\n",
       "      <td>16.539912</td>\n",
       "      <td>125.820115</td>\n",
       "    </tr>\n",
       "    <tr>\n",
       "      <th>min</th>\n",
       "      <td>-0.019936</td>\n",
       "      <td>-156.915110</td>\n",
       "      <td>13.838406</td>\n",
       "      <td>349951.501750</td>\n",
       "      <td>25.068567</td>\n",
       "      <td>0.124048</td>\n",
       "    </tr>\n",
       "    <tr>\n",
       "      <th>25%</th>\n",
       "      <td>-0.004017</td>\n",
       "      <td>-156.016123</td>\n",
       "      <td>18.394053</td>\n",
       "      <td>349986.793533</td>\n",
       "      <td>41.154587</td>\n",
       "      <td>24.639675</td>\n",
       "    </tr>\n",
       "    <tr>\n",
       "      <th>50%</th>\n",
       "      <td>-0.001400</td>\n",
       "      <td>-155.621800</td>\n",
       "      <td>20.251565</td>\n",
       "      <td>349999.553509</td>\n",
       "      <td>55.810915</td>\n",
       "      <td>201.297752</td>\n",
       "    </tr>\n",
       "    <tr>\n",
       "      <th>75%</th>\n",
       "      <td>-0.000312</td>\n",
       "      <td>-154.509279</td>\n",
       "      <td>22.092998</td>\n",
       "      <td>350012.931027</td>\n",
       "      <td>70.375585</td>\n",
       "      <td>257.812832</td>\n",
       "    </tr>\n",
       "    <tr>\n",
       "      <th>max</th>\n",
       "      <td>0.010964</td>\n",
       "      <td>-151.492086</td>\n",
       "      <td>23.951887</td>\n",
       "      <td>350048.036389</td>\n",
       "      <td>79.695907</td>\n",
       "      <td>359.695694</td>\n",
       "    </tr>\n",
       "  </tbody>\n",
       "</table>\n",
       "</div>"
      ],
      "text/plain": [
       "         ahup__G07  ahup__G07_lon  ahup__G07_lat  ahup__G07_h_ipp  \\\n",
       "count  3965.000000    3965.000000    3965.000000      3965.000000   \n",
       "mean     -0.003048    -155.111457      20.150692    349999.887685   \n",
       "std       0.004368       1.253932       2.328686        18.420841   \n",
       "min      -0.019936    -156.915110      13.838406    349951.501750   \n",
       "25%      -0.004017    -156.016123      18.394053    349986.793533   \n",
       "50%      -0.001400    -155.621800      20.251565    349999.553509   \n",
       "75%      -0.000312    -154.509279      22.092998    350012.931027   \n",
       "max       0.010964    -151.492086      23.951887    350048.036389   \n",
       "\n",
       "       ahup__G07_ele  ahup__G07_azi  \n",
       "count    3965.000000    3965.000000  \n",
       "mean       55.210378     165.396434  \n",
       "std        16.539912     125.820115  \n",
       "min        25.068567       0.124048  \n",
       "25%        41.154587      24.639675  \n",
       "50%        55.810915     201.297752  \n",
       "75%        70.375585     257.812832  \n",
       "max        79.695907     359.695694  "
      ]
     },
     "execution_count": 65,
     "metadata": {},
     "output_type": "execute_result"
    }
   ],
   "source": [
    "# TODO: remove hard-coded ground station and satellite combination \n",
    "exp.dataframes[\"all_days\"]['ahup__G07']['merged_dataframe'].describe()"
   ]
  },
  {
   "cell_type": "code",
   "execution_count": 66,
   "metadata": {},
   "outputs": [
    {
     "name": "stdout",
     "output_type": "stream",
     "text": [
      "1\n",
      "dict_keys(['ahup__G07'])\n"
     ]
    }
   ],
   "source": [
    "print(len(exp.dataframes[\"all_days\"])) # number of combinations of ground station and satellite\n",
    "print(exp.dataframes[\"all_days\"].keys()) # which combinations of ground station and satellite "
   ]
  },
  {
   "cell_type": "markdown",
   "metadata": {},
   "source": [
    "### TODO / REVISIT: Removing Any Stray Outliers \n",
    "\n",
    "While the elevation filtering does help to provide clean, consistent data to the model, it is a possibility that the connection between the ground station and the satellite can sometimes cause inconsistent / noisy TEC estimates. These are not indicative of normal behavior, so we will want to remove them from our dataset. \n",
    "\n",
    "This behavior **only occurs for the G07 satellite** as we can best tell currently. In the cells below, we illustrate this anomalies for clarity and transparency, and show the effect this process has on the training data used through the rest of the modeling process. "
   ]
  },
  {
   "cell_type": "markdown",
   "metadata": {},
   "source": [
    "### Visualize Available Data\n",
    "\n",
    "#### All Base Features for The Satellite and Ground Station"
   ]
  },
  {
   "cell_type": "code",
   "execution_count": 67,
   "metadata": {},
   "outputs": [],
   "source": [
    "def plot_feature_set(dataframe: pd.DataFrame, figsize: tuple = (100,25)) -> None:\n",
    "\n",
    "    # create subplots that show the values in the data\n",
    "    values = list()\n",
    "    for val in dataframe:\n",
    "        values.append(val)\n",
    "\n",
    "    f, axes = plt.subplots(len(values), 1, figsize=figsize, sharex=True)\n",
    "    i = 0\n",
    "\n",
    "    for val in values:\n",
    "        ax = sns.lineplot(x=dataframe.index, y=val, ax=axes[i], data=dataframe, color=\"gray\")\n",
    "        ax.lines[0].set_linestyle(\"--\")\n",
    "\n",
    "        ax2 = sns.scatterplot(x=dataframe.index, y=val,\n",
    "                    data=dataframe, ax=axes[i],\n",
    "                    color=\"blue\")\n",
    "\n",
    "        i += 1\n",
    "\n",
    "\n",
    "    plt.show()"
   ]
  },
  {
   "cell_type": "code",
   "execution_count": 68,
   "metadata": {
    "scrolled": true
   },
   "outputs": [],
   "source": [
    "# for d in exp.dataframes[\"all_days\"].keys():\n",
    "    \n",
    "#     print(\"\\n------ \" + d + \" ------\")\n",
    "        \n",
    "#     plot_feature_set(exp.dataframes[\"all_days\"][d][\"merged_dataframe\"])"
   ]
  },
  {
   "cell_type": "markdown",
   "metadata": {},
   "source": [
    "#### On Day of Earthquake"
   ]
  },
  {
   "cell_type": "code",
   "execution_count": 69,
   "metadata": {
    "scrolled": true
   },
   "outputs": [],
   "source": [
    "# for d in exp.dataframes[\"all_days\"].keys():\n",
    "    \n",
    "#     print(\"\\n------ \" + d + \" ------\")\n",
    "    \n",
    "#     # get those dates from the 28th of the month, day of the earthquake\n",
    "#     filter_index = exp.dataframes[\"all_days\"][d][\"merged_dataframe\"].index.to_series().between('2012-10-28', '2012-10-28 23:59:00')\n",
    "    \n",
    "#     df_sat_earthquake = exp.dataframes[\"all_days\"][d][\"merged_dataframe\"][filter_index]\n",
    "    \n",
    "#     plot_feature_set(df_sat_earthquake, figsize=(50, 25))"
   ]
  },
  {
   "cell_type": "markdown",
   "metadata": {},
   "source": [
    "## Prep Data\n",
    "\n",
    "The previous command `.merge_data()` gathered the data after being read and created dataframes for each specific satellite and ground station combination which can then be analyzed and further prepared for modeling. The `.prep_data()` function takes the data prepared in the previous step and futher prepares it for modeling, such as removing empty values from the dataset, performing concatenations, creating sliding windows, or any other steps. \n",
    "\n",
    "**NOTE** In future software revisions, we can tag specific data prep steps with specific models. That way, the necessary data prep steps are applied for whichever model is being passed. "
   ]
  },
  {
   "cell_type": "code",
   "execution_count": 70,
   "metadata": {},
   "outputs": [
    {
     "data": {
      "application/vnd.jupyter.widget-view+json": {
       "model_id": "cfd014c6b20740989ba7a4c78ca69925",
       "version_major": 2,
       "version_minor": 0
      },
      "text/plain": [
       "HBox(children=(FloatProgress(value=0.0, max=1.0), HTML(value='')))"
      ]
     },
     "metadata": {},
     "output_type": "display_data"
    },
    {
     "name": "stdout",
     "output_type": "stream",
     "text": [
      "\n"
     ]
    }
   ],
   "source": [
    "exp.prep_data()"
   ]
  },
  {
   "cell_type": "code",
   "execution_count": 71,
   "metadata": {},
   "outputs": [
    {
     "data": {
      "text/plain": [
       "timestamp\n",
       "2012-10-27 06:54:00   -1.000000\n",
       "2012-10-27 06:55:00   -0.939922\n",
       "2012-10-27 06:56:00   -0.879554\n",
       "2012-10-27 06:57:00   -0.789847\n",
       "2012-10-27 06:58:00   -0.771461\n",
       "                         ...   \n",
       "2012-10-27 11:23:00    0.956956\n",
       "2012-10-27 11:24:00    0.958404\n",
       "2012-10-27 11:25:00    0.901366\n",
       "2012-10-27 11:26:00    0.941852\n",
       "2012-10-27 11:27:00    0.942817\n",
       "Name: ahup__G07, Length: 274, dtype: float64"
      ]
     },
     "execution_count": 71,
     "metadata": {},
     "output_type": "execute_result"
    }
   ],
   "source": [
    "# check that the above process was successful\n",
    "# TODO: remove hard-coded ground station and satellite combination below and insert random \n",
    "# from list of passed satellites in exp \n",
    "df_test = exp.dataframes[\"all_days\"][\"ahup__G07\"][\"periods_allocated\"][\"test\"]['ahup__G07']\n",
    "df_test"
   ]
  },
  {
   "cell_type": "code",
   "execution_count": 72,
   "metadata": {},
   "outputs": [],
   "source": [
    "model_dataframes = exp.dataframes"
   ]
  },
  {
   "cell_type": "markdown",
   "metadata": {},
   "source": [
    "## Train the Models\n",
    "\n",
    "We will be training a single model for each ground station and satellite combination that is contained in the Experiment object. The trained models, result sets, residual values, and other artifacts will be stored for continued analysis in the detection pipeline. "
   ]
  },
  {
   "cell_type": "code",
   "execution_count": 73,
   "metadata": {
    "scrolled": true
   },
   "outputs": [
    {
     "data": {
      "application/vnd.jupyter.widget-view+json": {
       "model_id": "c0636c2a3bb74410ad01eff854187dec",
       "version_major": 2,
       "version_minor": 0
      },
      "text/plain": [
       "HBox(children=(FloatProgress(value=0.0, max=1.0), HTML(value='')))"
      ]
     },
     "metadata": {},
     "output_type": "display_data"
    },
    {
     "name": "stdout",
     "output_type": "stream",
     "text": [
      "/u/scratch/s/stecproj/sTEC_models/SatExperiment_hawaii_2012/output/ahup__G07\n"
     ]
    },
    {
     "data": {
      "text/html": [
       "\n",
       "    <div>\n",
       "        <style>\n",
       "            /* Turns off some styling */\n",
       "            progress {\n",
       "                /* gets rid of default border in Firefox and Opera. */\n",
       "                border: none;\n",
       "                /* Needs to be in here for Safari polyfill so background images work as expected. */\n",
       "                background-size: auto;\n",
       "            }\n",
       "            .progress-bar-interrupted, .progress-bar-interrupted::-webkit-progress-bar {\n",
       "                background: #F44336;\n",
       "            }\n",
       "        </style>\n",
       "      <progress value='0' class='' max='1' style='width:300px; height:20px; vertical-align: middle;'></progress>\n",
       "      0.00% [0/1 00:00<00:00]\n",
       "    </div>\n",
       "    \n",
       "<table border=\"1\" class=\"dataframe\">\n",
       "  <thead>\n",
       "    <tr style=\"text-align: left;\">\n",
       "      <th>epoch</th>\n",
       "      <th>train_loss</th>\n",
       "      <th>valid_loss</th>\n",
       "      <th>root_mean_squared_error</th>\n",
       "      <th>cpu used</th>\n",
       "      <th>peak</th>\n",
       "      <th>gpu used</th>\n",
       "      <th>peak</th>\n",
       "      <th>time</th>\n",
       "    </tr>\n",
       "  </thead>\n",
       "  <tbody>\n",
       "  </tbody>\n",
       "</table><p>\n",
       "\n",
       "    <div>\n",
       "        <style>\n",
       "            /* Turns off some styling */\n",
       "            progress {\n",
       "                /* gets rid of default border in Firefox and Opera. */\n",
       "                border: none;\n",
       "                /* Needs to be in here for Safari polyfill so background images work as expected. */\n",
       "                background-size: auto;\n",
       "            }\n",
       "            .progress-bar-interrupted, .progress-bar-interrupted::-webkit-progress-bar {\n",
       "                background: #F44336;\n",
       "            }\n",
       "        </style>\n",
       "      <progress value='80' class='' max='171' style='width:300px; height:20px; vertical-align: middle;'></progress>\n",
       "      46.78% [80/171 00:00<00:00 1.0556]\n",
       "    </div>\n",
       "    "
      ],
      "text/plain": [
       "<IPython.core.display.HTML object>"
      ]
     },
     "metadata": {},
     "output_type": "display_data"
    },
    {
     "name": "stdout",
     "output_type": "stream",
     "text": [
      "LR Finder is complete, type {learner_name}.recorder.plot() to see the graph.\n"
     ]
    },
    {
     "data": {
      "image/png": "[encoded data removed]",
      "text/plain": [
       "<Figure size 432x288 with 1 Axes>"
      ]
     },
     "metadata": {},
     "output_type": "display_data"
    },
    {
     "data": {
      "image/png": "[encoded data removed]",
      "text/plain": [
       "<Figure size 432x288 with 1 Axes>"
      ]
     },
     "metadata": {},
     "output_type": "display_data"
    },
    {
     "name": "stdout",
     "output_type": "stream",
     "text": [
      "Learning Rate for ahup__G07: 0.001\n"
     ]
    },
    {
     "data": {
      "text/html": [
       "\n",
       "    <div>\n",
       "        <style>\n",
       "            /* Turns off some styling */\n",
       "            progress {\n",
       "                /* gets rid of default border in Firefox and Opera. */\n",
       "                border: none;\n",
       "                /* Needs to be in here for Safari polyfill so background images work as expected. */\n",
       "                background-size: auto;\n",
       "            }\n",
       "            .progress-bar-interrupted, .progress-bar-interrupted::-webkit-progress-bar {\n",
       "                background: #F44336;\n",
       "            }\n",
       "        </style>\n",
       "      <progress value='50' class='' max='500' style='width:300px; height:20px; vertical-align: middle;'></progress>\n",
       "      10.00% [50/500 00:56<08:29]\n",
       "    </div>\n",
       "    \n",
       "<table border=\"1\" class=\"dataframe\">\n",
       "  <thead>\n",
       "    <tr style=\"text-align: left;\">\n",
       "      <th>epoch</th>\n",
       "      <th>train_loss</th>\n",
       "      <th>valid_loss</th>\n",
       "      <th>root_mean_squared_error</th>\n",
       "      <th>cpu used</th>\n",
       "      <th>peak</th>\n",
       "      <th>gpu used</th>\n",
       "      <th>peak</th>\n",
       "      <th>time</th>\n",
       "    </tr>\n",
       "  </thead>\n",
       "  <tbody>\n",
       "    <tr>\n",
       "      <td>0</td>\n",
       "      <td>1.264700</td>\n",
       "      <td>1.135406</td>\n",
       "      <td>0.982132</td>\n",
       "      <td>0</td>\n",
       "      <td>0</td>\n",
       "      <td>0</td>\n",
       "      <td>0</td>\n",
       "      <td>00:00</td>\n",
       "    </tr>\n",
       "    <tr>\n",
       "      <td>1</td>\n",
       "      <td>1.176795</td>\n",
       "      <td>1.113268</td>\n",
       "      <td>0.981272</td>\n",
       "      <td>0</td>\n",
       "      <td>0</td>\n",
       "      <td>0</td>\n",
       "      <td>0</td>\n",
       "      <td>00:00</td>\n",
       "    </tr>\n",
       "    <tr>\n",
       "      <td>2</td>\n",
       "      <td>1.160333</td>\n",
       "      <td>1.278423</td>\n",
       "      <td>1.054317</td>\n",
       "      <td>0</td>\n",
       "      <td>0</td>\n",
       "      <td>0</td>\n",
       "      <td>0</td>\n",
       "      <td>00:00</td>\n",
       "    </tr>\n",
       "    <tr>\n",
       "      <td>3</td>\n",
       "      <td>1.150025</td>\n",
       "      <td>1.158819</td>\n",
       "      <td>0.995923</td>\n",
       "      <td>0</td>\n",
       "      <td>0</td>\n",
       "      <td>0</td>\n",
       "      <td>0</td>\n",
       "      <td>00:00</td>\n",
       "    </tr>\n",
       "    <tr>\n",
       "      <td>4</td>\n",
       "      <td>1.088807</td>\n",
       "      <td>1.047882</td>\n",
       "      <td>0.946234</td>\n",
       "      <td>0</td>\n",
       "      <td>0</td>\n",
       "      <td>0</td>\n",
       "      <td>0</td>\n",
       "      <td>00:00</td>\n",
       "    </tr>\n",
       "    <tr>\n",
       "      <td>5</td>\n",
       "      <td>1.059836</td>\n",
       "      <td>1.084166</td>\n",
       "      <td>0.973212</td>\n",
       "      <td>0</td>\n",
       "      <td>0</td>\n",
       "      <td>0</td>\n",
       "      <td>0</td>\n",
       "      <td>00:00</td>\n",
       "    </tr>\n",
       "    <tr>\n",
       "      <td>6</td>\n",
       "      <td>1.032959</td>\n",
       "      <td>1.005488</td>\n",
       "      <td>0.933229</td>\n",
       "      <td>0</td>\n",
       "      <td>0</td>\n",
       "      <td>0</td>\n",
       "      <td>0</td>\n",
       "      <td>00:00</td>\n",
       "    </tr>\n",
       "    <tr>\n",
       "      <td>7</td>\n",
       "      <td>0.987328</td>\n",
       "      <td>1.058112</td>\n",
       "      <td>0.950514</td>\n",
       "      <td>0</td>\n",
       "      <td>0</td>\n",
       "      <td>0</td>\n",
       "      <td>0</td>\n",
       "      <td>00:00</td>\n",
       "    </tr>\n",
       "    <tr>\n",
       "      <td>8</td>\n",
       "      <td>0.987330</td>\n",
       "      <td>0.971502</td>\n",
       "      <td>0.920276</td>\n",
       "      <td>0</td>\n",
       "      <td>0</td>\n",
       "      <td>0</td>\n",
       "      <td>0</td>\n",
       "      <td>00:00</td>\n",
       "    </tr>\n",
       "    <tr>\n",
       "      <td>9</td>\n",
       "      <td>0.920654</td>\n",
       "      <td>0.881771</td>\n",
       "      <td>0.868219</td>\n",
       "      <td>0</td>\n",
       "      <td>0</td>\n",
       "      <td>0</td>\n",
       "      <td>0</td>\n",
       "      <td>00:00</td>\n",
       "    </tr>\n",
       "    <tr>\n",
       "      <td>10</td>\n",
       "      <td>0.889742</td>\n",
       "      <td>0.851946</td>\n",
       "      <td>0.848813</td>\n",
       "      <td>0</td>\n",
       "      <td>0</td>\n",
       "      <td>0</td>\n",
       "      <td>0</td>\n",
       "      <td>00:00</td>\n",
       "    </tr>\n",
       "    <tr>\n",
       "      <td>11</td>\n",
       "      <td>0.875476</td>\n",
       "      <td>0.890527</td>\n",
       "      <td>0.882163</td>\n",
       "      <td>0</td>\n",
       "      <td>0</td>\n",
       "      <td>0</td>\n",
       "      <td>0</td>\n",
       "      <td>00:00</td>\n",
       "    </tr>\n",
       "    <tr>\n",
       "      <td>12</td>\n",
       "      <td>0.820503</td>\n",
       "      <td>0.864424</td>\n",
       "      <td>0.865271</td>\n",
       "      <td>0</td>\n",
       "      <td>0</td>\n",
       "      <td>0</td>\n",
       "      <td>0</td>\n",
       "      <td>00:00</td>\n",
       "    </tr>\n",
       "    <tr>\n",
       "      <td>13</td>\n",
       "      <td>0.790862</td>\n",
       "      <td>0.763800</td>\n",
       "      <td>0.811164</td>\n",
       "      <td>0</td>\n",
       "      <td>0</td>\n",
       "      <td>0</td>\n",
       "      <td>0</td>\n",
       "      <td>00:00</td>\n",
       "    </tr>\n",
       "    <tr>\n",
       "      <td>14</td>\n",
       "      <td>0.762064</td>\n",
       "      <td>0.682774</td>\n",
       "      <td>0.768919</td>\n",
       "      <td>0</td>\n",
       "      <td>0</td>\n",
       "      <td>0</td>\n",
       "      <td>0</td>\n",
       "      <td>00:00</td>\n",
       "    </tr>\n",
       "    <tr>\n",
       "      <td>15</td>\n",
       "      <td>0.718687</td>\n",
       "      <td>0.720812</td>\n",
       "      <td>0.800871</td>\n",
       "      <td>0</td>\n",
       "      <td>0</td>\n",
       "      <td>0</td>\n",
       "      <td>0</td>\n",
       "      <td>00:00</td>\n",
       "    </tr>\n",
       "    <tr>\n",
       "      <td>16</td>\n",
       "      <td>0.680788</td>\n",
       "      <td>0.641457</td>\n",
       "      <td>0.743192</td>\n",
       "      <td>0</td>\n",
       "      <td>0</td>\n",
       "      <td>0</td>\n",
       "      <td>0</td>\n",
       "      <td>00:00</td>\n",
       "    </tr>\n",
       "    <tr>\n",
       "      <td>17</td>\n",
       "      <td>0.657388</td>\n",
       "      <td>0.600314</td>\n",
       "      <td>0.715222</td>\n",
       "      <td>0</td>\n",
       "      <td>0</td>\n",
       "      <td>0</td>\n",
       "      <td>0</td>\n",
       "      <td>00:00</td>\n",
       "    </tr>\n",
       "    <tr>\n",
       "      <td>18</td>\n",
       "      <td>0.633639</td>\n",
       "      <td>0.609734</td>\n",
       "      <td>0.731084</td>\n",
       "      <td>0</td>\n",
       "      <td>0</td>\n",
       "      <td>0</td>\n",
       "      <td>0</td>\n",
       "      <td>00:00</td>\n",
       "    </tr>\n",
       "    <tr>\n",
       "      <td>19</td>\n",
       "      <td>0.584475</td>\n",
       "      <td>0.643026</td>\n",
       "      <td>0.749320</td>\n",
       "      <td>0</td>\n",
       "      <td>0</td>\n",
       "      <td>0</td>\n",
       "      <td>0</td>\n",
       "      <td>00:00</td>\n",
       "    </tr>\n",
       "    <tr>\n",
       "      <td>20</td>\n",
       "      <td>0.546678</td>\n",
       "      <td>0.524026</td>\n",
       "      <td>0.678657</td>\n",
       "      <td>0</td>\n",
       "      <td>0</td>\n",
       "      <td>0</td>\n",
       "      <td>0</td>\n",
       "      <td>00:00</td>\n",
       "    </tr>\n",
       "    <tr>\n",
       "      <td>21</td>\n",
       "      <td>0.518709</td>\n",
       "      <td>0.514380</td>\n",
       "      <td>0.666518</td>\n",
       "      <td>0</td>\n",
       "      <td>0</td>\n",
       "      <td>0</td>\n",
       "      <td>0</td>\n",
       "      <td>00:00</td>\n",
       "    </tr>\n",
       "    <tr>\n",
       "      <td>22</td>\n",
       "      <td>0.482646</td>\n",
       "      <td>0.438584</td>\n",
       "      <td>0.610977</td>\n",
       "      <td>0</td>\n",
       "      <td>0</td>\n",
       "      <td>0</td>\n",
       "      <td>0</td>\n",
       "      <td>00:00</td>\n",
       "    </tr>\n",
       "    <tr>\n",
       "      <td>23</td>\n",
       "      <td>0.462804</td>\n",
       "      <td>0.444007</td>\n",
       "      <td>0.622233</td>\n",
       "      <td>0</td>\n",
       "      <td>0</td>\n",
       "      <td>0</td>\n",
       "      <td>0</td>\n",
       "      <td>00:00</td>\n",
       "    </tr>\n",
       "    <tr>\n",
       "      <td>24</td>\n",
       "      <td>0.431411</td>\n",
       "      <td>0.426129</td>\n",
       "      <td>0.608157</td>\n",
       "      <td>0</td>\n",
       "      <td>0</td>\n",
       "      <td>0</td>\n",
       "      <td>0</td>\n",
       "      <td>00:00</td>\n",
       "    </tr>\n",
       "    <tr>\n",
       "      <td>25</td>\n",
       "      <td>0.394210</td>\n",
       "      <td>0.354817</td>\n",
       "      <td>0.553910</td>\n",
       "      <td>0</td>\n",
       "      <td>0</td>\n",
       "      <td>0</td>\n",
       "      <td>0</td>\n",
       "      <td>00:00</td>\n",
       "    </tr>\n",
       "    <tr>\n",
       "      <td>26</td>\n",
       "      <td>0.373064</td>\n",
       "      <td>0.311499</td>\n",
       "      <td>0.515415</td>\n",
       "      <td>0</td>\n",
       "      <td>0</td>\n",
       "      <td>0</td>\n",
       "      <td>0</td>\n",
       "      <td>00:00</td>\n",
       "    </tr>\n",
       "    <tr>\n",
       "      <td>27</td>\n",
       "      <td>0.334157</td>\n",
       "      <td>0.283999</td>\n",
       "      <td>0.490598</td>\n",
       "      <td>0</td>\n",
       "      <td>0</td>\n",
       "      <td>0</td>\n",
       "      <td>0</td>\n",
       "      <td>00:00</td>\n",
       "    </tr>\n",
       "    <tr>\n",
       "      <td>28</td>\n",
       "      <td>0.312346</td>\n",
       "      <td>0.253611</td>\n",
       "      <td>0.460698</td>\n",
       "      <td>0</td>\n",
       "      <td>0</td>\n",
       "      <td>0</td>\n",
       "      <td>0</td>\n",
       "      <td>00:00</td>\n",
       "    </tr>\n",
       "    <tr>\n",
       "      <td>29</td>\n",
       "      <td>0.297774</td>\n",
       "      <td>0.237061</td>\n",
       "      <td>0.442361</td>\n",
       "      <td>0</td>\n",
       "      <td>0</td>\n",
       "      <td>0</td>\n",
       "      <td>0</td>\n",
       "      <td>00:00</td>\n",
       "    </tr>\n",
       "    <tr>\n",
       "      <td>30</td>\n",
       "      <td>0.290724</td>\n",
       "      <td>0.209716</td>\n",
       "      <td>0.407789</td>\n",
       "      <td>0</td>\n",
       "      <td>0</td>\n",
       "      <td>0</td>\n",
       "      <td>0</td>\n",
       "      <td>00:00</td>\n",
       "    </tr>\n",
       "    <tr>\n",
       "      <td>31</td>\n",
       "      <td>0.276109</td>\n",
       "      <td>0.175382</td>\n",
       "      <td>0.367318</td>\n",
       "      <td>0</td>\n",
       "      <td>0</td>\n",
       "      <td>0</td>\n",
       "      <td>0</td>\n",
       "      <td>00:00</td>\n",
       "    </tr>\n",
       "    <tr>\n",
       "      <td>32</td>\n",
       "      <td>0.261432</td>\n",
       "      <td>0.187060</td>\n",
       "      <td>0.378336</td>\n",
       "      <td>0</td>\n",
       "      <td>0</td>\n",
       "      <td>0</td>\n",
       "      <td>0</td>\n",
       "      <td>00:00</td>\n",
       "    </tr>\n",
       "    <tr>\n",
       "      <td>33</td>\n",
       "      <td>0.235225</td>\n",
       "      <td>0.146990</td>\n",
       "      <td>0.326460</td>\n",
       "      <td>0</td>\n",
       "      <td>0</td>\n",
       "      <td>0</td>\n",
       "      <td>0</td>\n",
       "      <td>00:00</td>\n",
       "    </tr>\n",
       "    <tr>\n",
       "      <td>34</td>\n",
       "      <td>0.242881</td>\n",
       "      <td>0.143297</td>\n",
       "      <td>0.320379</td>\n",
       "      <td>0</td>\n",
       "      <td>0</td>\n",
       "      <td>0</td>\n",
       "      <td>0</td>\n",
       "      <td>00:00</td>\n",
       "    </tr>\n",
       "    <tr>\n",
       "      <td>35</td>\n",
       "      <td>0.226254</td>\n",
       "      <td>0.146495</td>\n",
       "      <td>0.323705</td>\n",
       "      <td>0</td>\n",
       "      <td>0</td>\n",
       "      <td>0</td>\n",
       "      <td>0</td>\n",
       "      <td>00:00</td>\n",
       "    </tr>\n",
       "    <tr>\n",
       "      <td>36</td>\n",
       "      <td>0.236348</td>\n",
       "      <td>0.152541</td>\n",
       "      <td>0.334308</td>\n",
       "      <td>0</td>\n",
       "      <td>0</td>\n",
       "      <td>0</td>\n",
       "      <td>0</td>\n",
       "      <td>00:00</td>\n",
       "    </tr>\n",
       "    <tr>\n",
       "      <td>37</td>\n",
       "      <td>0.226498</td>\n",
       "      <td>0.153273</td>\n",
       "      <td>0.338523</td>\n",
       "      <td>0</td>\n",
       "      <td>0</td>\n",
       "      <td>0</td>\n",
       "      <td>0</td>\n",
       "      <td>00:00</td>\n",
       "    </tr>\n",
       "    <tr>\n",
       "      <td>38</td>\n",
       "      <td>0.225833</td>\n",
       "      <td>0.152929</td>\n",
       "      <td>0.332447</td>\n",
       "      <td>0</td>\n",
       "      <td>0</td>\n",
       "      <td>0</td>\n",
       "      <td>0</td>\n",
       "      <td>00:00</td>\n",
       "    </tr>\n",
       "    <tr>\n",
       "      <td>39</td>\n",
       "      <td>0.225461</td>\n",
       "      <td>0.148264</td>\n",
       "      <td>0.323262</td>\n",
       "      <td>0</td>\n",
       "      <td>0</td>\n",
       "      <td>0</td>\n",
       "      <td>0</td>\n",
       "      <td>00:00</td>\n",
       "    </tr>\n",
       "    <tr>\n",
       "      <td>40</td>\n",
       "      <td>0.226893</td>\n",
       "      <td>0.146300</td>\n",
       "      <td>0.326653</td>\n",
       "      <td>0</td>\n",
       "      <td>0</td>\n",
       "      <td>0</td>\n",
       "      <td>0</td>\n",
       "      <td>00:00</td>\n",
       "    </tr>\n",
       "    <tr>\n",
       "      <td>41</td>\n",
       "      <td>0.219451</td>\n",
       "      <td>0.152719</td>\n",
       "      <td>0.329200</td>\n",
       "      <td>0</td>\n",
       "      <td>0</td>\n",
       "      <td>0</td>\n",
       "      <td>0</td>\n",
       "      <td>00:00</td>\n",
       "    </tr>\n",
       "    <tr>\n",
       "      <td>42</td>\n",
       "      <td>0.205811</td>\n",
       "      <td>0.152077</td>\n",
       "      <td>0.327448</td>\n",
       "      <td>0</td>\n",
       "      <td>0</td>\n",
       "      <td>0</td>\n",
       "      <td>0</td>\n",
       "      <td>00:00</td>\n",
       "    </tr>\n",
       "    <tr>\n",
       "      <td>43</td>\n",
       "      <td>0.208785</td>\n",
       "      <td>0.148839</td>\n",
       "      <td>0.330917</td>\n",
       "      <td>0</td>\n",
       "      <td>0</td>\n",
       "      <td>0</td>\n",
       "      <td>0</td>\n",
       "      <td>00:00</td>\n",
       "    </tr>\n",
       "    <tr>\n",
       "      <td>44</td>\n",
       "      <td>0.208426</td>\n",
       "      <td>0.154181</td>\n",
       "      <td>0.328685</td>\n",
       "      <td>0</td>\n",
       "      <td>0</td>\n",
       "      <td>0</td>\n",
       "      <td>0</td>\n",
       "      <td>00:00</td>\n",
       "    </tr>\n",
       "    <tr>\n",
       "      <td>45</td>\n",
       "      <td>0.208132</td>\n",
       "      <td>0.149460</td>\n",
       "      <td>0.325114</td>\n",
       "      <td>0</td>\n",
       "      <td>0</td>\n",
       "      <td>0</td>\n",
       "      <td>0</td>\n",
       "      <td>00:00</td>\n",
       "    </tr>\n",
       "    <tr>\n",
       "      <td>46</td>\n",
       "      <td>0.212093</td>\n",
       "      <td>0.150736</td>\n",
       "      <td>0.327439</td>\n",
       "      <td>0</td>\n",
       "      <td>0</td>\n",
       "      <td>0</td>\n",
       "      <td>0</td>\n",
       "      <td>00:00</td>\n",
       "    </tr>\n",
       "    <tr>\n",
       "      <td>47</td>\n",
       "      <td>0.214142</td>\n",
       "      <td>0.153716</td>\n",
       "      <td>0.329951</td>\n",
       "      <td>0</td>\n",
       "      <td>0</td>\n",
       "      <td>0</td>\n",
       "      <td>0</td>\n",
       "      <td>00:00</td>\n",
       "    </tr>\n",
       "    <tr>\n",
       "      <td>48</td>\n",
       "      <td>0.221216</td>\n",
       "      <td>0.155844</td>\n",
       "      <td>0.333468</td>\n",
       "      <td>0</td>\n",
       "      <td>0</td>\n",
       "      <td>0</td>\n",
       "      <td>0</td>\n",
       "      <td>00:00</td>\n",
       "    </tr>\n",
       "    <tr>\n",
       "      <td>49</td>\n",
       "      <td>0.214364</td>\n",
       "      <td>0.154129</td>\n",
       "      <td>0.331607</td>\n",
       "      <td>0</td>\n",
       "      <td>0</td>\n",
       "      <td>0</td>\n",
       "      <td>0</td>\n",
       "      <td>00:00</td>\n",
       "    </tr>\n",
       "  </tbody>\n",
       "</table><p>\n",
       "\n",
       "    <div>\n",
       "        <style>\n",
       "            /* Turns off some styling */\n",
       "            progress {\n",
       "                /* gets rid of default border in Firefox and Opera. */\n",
       "                border: none;\n",
       "                /* Needs to be in here for Safari polyfill so background images work as expected. */\n",
       "                background-size: auto;\n",
       "            }\n",
       "            .progress-bar-interrupted, .progress-bar-interrupted::-webkit-progress-bar {\n",
       "                background: #F44336;\n",
       "            }\n",
       "        </style>\n",
       "      <progress value='18' class='' max='18' style='width:300px; height:20px; vertical-align: middle;'></progress>\n",
       "      100.00% [18/18 00:00<00:00]\n",
       "    </div>\n",
       "    "
      ],
      "text/plain": [
       "<IPython.core.display.HTML object>"
      ]
     },
     "metadata": {},
     "output_type": "display_data"
    },
    {
     "data": {
      "image/png": "[encoded data removed]",
      "text/plain": [
       "<Figure size 432x288 with 1 Axes>"
      ]
     },
     "metadata": {},
     "output_type": "display_data"
    },
    {
     "name": "stdout",
     "output_type": "stream",
     "text": [
      "Epoch 50: early stopping\n",
      "hello\n"
     ]
    },
    {
     "data": {
      "text/html": [
       "<table border=\"1\" class=\"dataframe\">\n",
       "  <thead>\n",
       "    <tr style=\"text-align: right;\">\n",
       "      <th>ahup__G07_ele</th>\n",
       "      <th>target</th>\n",
       "      <th>prediction</th>\n",
       "    </tr>\n",
       "  </thead>\n",
       "  <tbody>\n",
       "    <tr>\n",
       "      <td>-0.7203</td>\n",
       "      <td>-0.93992156</td>\n",
       "      <td>[0.597483]</td>\n",
       "    </tr>\n",
       "    <tr>\n",
       "      <td>-0.6993</td>\n",
       "      <td>-0.87955385</td>\n",
       "      <td>[0.597483]</td>\n",
       "    </tr>\n",
       "    <tr>\n",
       "      <td>-0.6867</td>\n",
       "      <td>-0.78984684</td>\n",
       "      <td>[0.597483]</td>\n",
       "    </tr>\n",
       "    <tr>\n",
       "      <td>-0.6698</td>\n",
       "      <td>-0.7714615</td>\n",
       "      <td>[0.597483]</td>\n",
       "    </tr>\n",
       "    <tr>\n",
       "      <td>-0.6528</td>\n",
       "      <td>-0.6093228</td>\n",
       "      <td>[0.58341]</td>\n",
       "    </tr>\n",
       "  </tbody>\n",
       "</table>"
      ],
      "text/plain": [
       "<IPython.core.display.HTML object>"
      ]
     },
     "metadata": {},
     "output_type": "display_data"
    },
    {
     "name": "stdout",
     "output_type": "stream",
     "text": [
      "\n"
     ]
    },
    {
     "data": {
      "image/png": "[encoded data removed]",
      "text/plain": [
       "<Figure size 432x288 with 1 Axes>"
      ]
     },
     "metadata": {},
     "output_type": "display_data"
    },
    {
     "data": {
      "image/png": "[encoded data removed]",
      "text/plain": [
       "<Figure size 432x288 with 1 Axes>"
      ]
     },
     "metadata": {},
     "output_type": "display_data"
    },
    {
     "data": {
      "image/png": "[encoded data removed]",
      "text/plain": [
       "<Figure size 432x1440 with 5 Axes>"
      ]
     },
     "metadata": {},
     "output_type": "display_data"
    }
   ],
   "source": [
    "exp.train_models(architectures[7][\"layers\"], architectures[7][\"ps\"], 16, True)"
   ]
  },
  {
   "cell_type": "code",
   "execution_count": null,
   "metadata": {
    "scrolled": true
   },
   "outputs": [],
   "source": [
    "exp.predict_models()"
   ]
  },
  {
   "cell_type": "markdown",
   "metadata": {},
   "source": [
    "### Examine the Model Output\n",
    "\n",
    "First, let's load in the residuals from the experiment. "
   ]
  },
  {
   "cell_type": "code",
   "execution_count": null,
   "metadata": {},
   "outputs": [],
   "source": [
    "exp.save_dir"
   ]
  },
  {
   "cell_type": "code",
   "execution_count": null,
   "metadata": {},
   "outputs": [],
   "source": [
    "def load_residuals(path: str) -> dict:\n",
    "    \"\"\"\n",
    "    Loads model residuals from a specified path (Experiment save directory) \n",
    "    and returns a dictionary of pandas.DataFrames for each of the models and \n",
    "    residual values for later analysis. \n",
    "    \"\"\"\n",
    "    \n",
    "    residual_dict = dict()\n",
    "\n",
    "    for i in tqdm(list(os.walk(path))):\n",
    "\n",
    "        if \"residuals\" in i[0]:\n",
    "            \n",
    "            # read in the test and validation residual dataframes \n",
    "            df_test = pd.read_csv(i[0] + \"/\" + i[2][0])\n",
    "            df_valid = pd.read_csv(i[0] + \"/\" + i[2][1])\n",
    "            \n",
    "            # store them in a dictionary entry \n",
    "            residual_dict[i[0]] = {\n",
    "                \"test\": df_test,\n",
    "                \"valid\": df_valid\n",
    "            }\n",
    "    \n",
    "    return residual_dict\n",
    "        "
   ]
  },
  {
   "cell_type": "code",
   "execution_count": null,
   "metadata": {},
   "outputs": [],
   "source": [
    "residuals = load_residuals(path=exp.save_dir)"
   ]
  },
  {
   "cell_type": "code",
   "execution_count": null,
   "metadata": {},
   "outputs": [],
   "source": [
    "residuals['../output2/SatExperiment_hawaii_2012/output/ahup__G07/residuals']['valid']\n",
    "# residuals['/u/scratch/s/stecproj/sTEC_models/SatExperiment_hawaii_2012/output/ahup__G07/residuals']['valid']"
   ]
  },
  {
   "cell_type": "markdown",
   "metadata": {},
   "source": [
    "Plot the results for each model before applying the error handling approach which classifies time periods as anomalous or not. This is intended to serve as a check for the modeling process. Since we have an unsupervised problem, we can do a quick visual check here before proceeding further. "
   ]
  },
  {
   "cell_type": "code",
   "execution_count": null,
   "metadata": {},
   "outputs": [],
   "source": [
    "def plot_predictions(dataframe: pd.DataFrame) -> None:\n",
    "    \"\"\"\n",
    "    Plots the predicted and true values given a dataframe of values. \n",
    "    \"\"\"\n",
    "    \n",
    "    # identify the dependent variable \n",
    "    dependent = None\n",
    "    for col in dataframe.columns.values:\n",
    "        split = col.split(\"__\")\n",
    "        if len(split) > 1:\n",
    "            if \"_\" not in split[1]:\n",
    "                dependent = col\n",
    "                break\n",
    "                    \n",
    "    # ensure the data is of float type for plotting \n",
    "    dataframe[dependent + \"_target\"] = dataframe[dependent + \"_target\"].astype(float)\n",
    "    dataframe[\"predicted\"] = dataframe[\"predicted\"].astype(float)\n",
    "    \n",
    "    # plot the things! \n",
    "    plt.figure(figsize=(30, 10))\n",
    "\n",
    "    ax = sns.lineplot(x=dataframe.index, y=dependent + \"_target\", data=dataframe, color=\"gray\")\n",
    "    ax.lines[0].set_linestyle(\"--\")\n",
    "\n",
    "    ax2 = sns.scatterplot(x=dataframe.index, y=dependent + \"_target\",\n",
    "                data=dataframe,\n",
    "                color=\"gray\")\n",
    "\n",
    "\n",
    "    ax3 = sns.lineplot(x=dataframe.index, y=\"predicted\", data=dataframe, color=\"blue\")\n",
    "\n",
    "    plt.show()\n",
    "\n",
    "    \n",
    "    \n",
    "    "
   ]
  },
  {
   "cell_type": "code",
   "execution_count": null,
   "metadata": {},
   "outputs": [],
   "source": [
    "def plot_residuals(dataframe: pd.DataFrame) -> None:\n",
    "    \"\"\"\n",
    "    Plots the absolute error (residuals) between the predicted and \n",
    "    true values given a dataframe of values. \n",
    "    \"\"\"\n",
    "    \n",
    "    # identify the dependent variable \n",
    "    dependent = None\n",
    "    for col in dataframe.columns.values:\n",
    "        split = col.split(\"__\")\n",
    "        if len(split) > 1:\n",
    "            if \"_\" not in split[1]:\n",
    "                dependent = col\n",
    "                break\n",
    "                    \n",
    "    # ensure the data is of float type for plotting \n",
    "    dataframe[\"absolute_error\"] = dataframe[\"absolute_error\"].astype(float)\n",
    "    \n",
    "    # calculate a simple moving average (3 minutes)\n",
    "    dataframe[\"absolute_error_sma_3\"] = dataframe[\"absolute_error\"].rolling(3, min_periods=1).mean()\n",
    "\n",
    "    # plot the things! \n",
    "    plt.figure(figsize=(30, 10))\n",
    "\n",
    "    ax = sns.lineplot(x=dataframe.index, y=\"absolute_error\", data=dataframe, color=\"gray\")\n",
    "    ax2 = sns.lineplot(x=dataframe.index, y=\"absolute_error_sma_3\", data=dataframe, color=\"red\")\n",
    "\n",
    "    plt.show()\n",
    "\n",
    "    \n",
    "    \n",
    "    "
   ]
  },
  {
   "cell_type": "code",
   "execution_count": null,
   "metadata": {},
   "outputs": [],
   "source": [
    "plot_predictions(\n",
    "#     dataframe=residuals[\"/u/scratch/s/stecproj/sTEC_models/SatExperiment_hawaii_2012/output/ahup__G07/residuals\"][\"valid\"]\n",
    "    dataframe=residuals[\"../output2/SatExperiment_hawaii_2012/output/ahup__G07/residuals\"][\"valid\"]\n",
    "\n",
    ")"
   ]
  },
  {
   "cell_type": "code",
   "execution_count": null,
   "metadata": {},
   "outputs": [],
   "source": [
    "plot_residuals(\n",
    "#     dataframe=residuals[\"/u/scratch/s/stecproj/sTEC_models/SatExperiment_hawaii_2012/output/ahup__G07/residuals\"][\"valid\"]\n",
    "    dataframe=residuals[\"../output2/SatExperiment_hawaii_2012/output/ahup__G07/residuals\"][\"valid\"]\n",
    ")"
   ]
  },
  {
   "cell_type": "code",
   "execution_count": null,
   "metadata": {
    "scrolled": true
   },
   "outputs": [],
   "source": [
    "# # let's plot all of the modeling results! \n",
    "# for i in residuals: \n",
    "    \n",
    "#     print(\"\\n------------\")\n",
    "#     print(i)\n",
    "    \n",
    "#     plot_predictions(\n",
    "#         dataframe=residuals[i][\"valid\"]\n",
    "#     )\n",
    "    \n",
    "#     plot_residuals(\n",
    "#         dataframe=residuals[i][\"valid\"]\n",
    "#     )\n",
    "    "
   ]
  },
  {
   "cell_type": "code",
   "execution_count": null,
   "metadata": {},
   "outputs": [],
   "source": []
  },
  {
   "cell_type": "code",
   "execution_count": null,
   "metadata": {},
   "outputs": [],
   "source": []
  },
  {
   "cell_type": "code",
   "execution_count": null,
   "metadata": {},
   "outputs": [],
   "source": []
  },
  {
   "cell_type": "code",
   "execution_count": null,
   "metadata": {},
   "outputs": [],
   "source": []
  },
  {
   "cell_type": "code",
   "execution_count": null,
   "metadata": {},
   "outputs": [],
   "source": []
  },
  {
   "cell_type": "markdown",
   "metadata": {},
   "source": [
    "## Metrics"
   ]
  },
  {
   "cell_type": "markdown",
   "metadata": {},
   "source": [
    "We need to report the following metrics: \n",
    "\n",
    "- **Root Mean Square Error**: measure of the differences between values (sample or population values) predicted by a model or an estimator and the values observed\n",
    "- **Accuracy**: the number of correct classifications over the number of observations\n",
    "- **Recall**: fraction of true events that were detected\n",
    "- **Precision**: fraction of detections reported  by the model that are correct\n",
    "- **F-Score**: the harmonic mean of the precision and recall, `2pr / (p + r)`\n",
    "- **Coverage**: fraction of examples for which the system is able to produce a confident classification"
   ]
  },
  {
   "cell_type": "code",
   "execution_count": null,
   "metadata": {},
   "outputs": [],
   "source": []
  },
  {
   "cell_type": "code",
   "execution_count": null,
   "metadata": {},
   "outputs": [],
   "source": [
    "# pickle and store the entire experiment object (which can later be loaded and re-examined)"
   ]
  },
  {
   "cell_type": "code",
   "execution_count": null,
   "metadata": {},
   "outputs": [],
   "source": []
  },
  {
   "cell_type": "code",
   "execution_count": null,
   "metadata": {},
   "outputs": [],
   "source": []
  }
 ],
 "metadata": {
  "kernelspec": {
   "display_name": "Python 3",
   "language": "python",
   "name": "python3"
  },
  "language_info": {
   "codemirror_mode": {
    "name": "ipython",
    "version": 3
   },
   "file_extension": ".py",
   "mimetype": "text/x-python",
   "name": "python",
   "nbconvert_exporter": "python",
   "pygments_lexer": "ipython3",
   "version": "3.7.6"
  }
 },
 "nbformat": 4,
 "nbformat_minor": 4
}
