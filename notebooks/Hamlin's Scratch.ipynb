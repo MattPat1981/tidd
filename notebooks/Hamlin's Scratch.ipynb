{
 "cells": [
  {
   "cell_type": "code",
   "execution_count": 3,
   "metadata": {},
   "outputs": [],
   "source": [
    "#modules\n",
    "import pandas as pd\n",
    "import numpy as np\n",
    "import sys\n",
    "\n",
    "import os\n"
   ]
  },
  {
   "cell_type": "code",
   "execution_count": 23,
   "metadata": {},
   "outputs": [
    {
     "name": "stdout",
     "output_type": "stream",
     "text": [
      "./sTEC-d-dt-Anomaly-Detection/data/outputs_300\n"
     ]
    }
   ],
   "source": [
    "#separate filenames into ground station by day\n",
    "#days = list of lists --> [filepath, hashmap by station]\n",
    "filePath = './sTEC-d-dt-Anomaly-Detection/data/'\n",
    "folders = os.listdir(filePath)\n",
    "folders = sorted(folders)\n",
    "days = list()\n",
    "for folder in folders:\n",
    "    day = list()\n",
    "    day.append(filePath + folder)\n",
    "    files = os.listdir(day[0])\n",
    "    groundStation = dict()\n",
    "    for file in files:\n",
    "        stationName = str(file[:4])\n",
    "        if stationName in groundStation:\n",
    "            groundStation[stationName] += [file]\n",
    "        else:\n",
    "            groundStation[stationName] = [file]\n",
    "    day.append(groundStation)\n",
    "    days.append(day)\n",
    "print(days[0][0])\n",
    "\n",
    "    \n",
    "\n",
    "            \n",
    "    "
   ]
  },
  {
   "cell_type": "code",
   "execution_count": null,
   "metadata": {},
   "outputs": [],
   "source": []
  }
 ],
 "metadata": {
  "kernelspec": {
   "display_name": "Python 3",
   "language": "python",
   "name": "python3"
  },
  "language_info": {
   "codemirror_mode": {
    "name": "ipython",
    "version": 3
   },
   "file_extension": ".py",
   "mimetype": "text/x-python",
   "name": "python",
   "nbconvert_exporter": "python",
   "pygments_lexer": "ipython3",
   "version": "3.7.7"
  }
 },
 "nbformat": 4,
 "nbformat_minor": 4
}
